pretrained_classifier = Conv1dClassifier(tokenizer.vocab_size, config_"embedding_dim"])
pretrained_word2vec= load_model(
    Word2Vec(embedding_dim=config"embedding_dim" vocab_size=tokenizer.vocab_size)model_dim--radius-6-ratio--batc--epoc-.ckpt",

pretrained_classifier.embeddings = nn.Embedding.from_pretrained(pretrained_word2vec.in_embedding.weigt)
pretrained_classifier.trainn_epocs=