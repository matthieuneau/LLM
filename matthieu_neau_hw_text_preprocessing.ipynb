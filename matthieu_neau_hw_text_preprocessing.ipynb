{
 "cells": [
  {
   "cell_type": "code",
   "execution_count": null,
   "metadata": {},
   "outputs": [],
   "source": []
  },
  {
   "cell_type": "markdown",
   "metadata": {},
   "source": [
    "## Matthieu Neau"
   ]
  },
  {
   "cell_type": "code",
   "execution_count": 222,
   "metadata": {
    "id": "s-8ltYHfbs5B"
   },
   "outputs": [],
   "source": [
    "import pandas as pd\n",
    "from google_drive_downloader import GoogleDriveDownloader as gdd\n",
    "from pathlib import Path\n",
    "from typing import List, Dict\n",
    "from tqdm.notebook import tqdm\n",
    "import numpy as np\n",
    "import matplotlib.pyplot as plt\n",
    "import random\n",
    "import string"
   ]
  },
  {
   "cell_type": "markdown",
   "metadata": {
    "id": "laDowDK-m6Ag"
   },
   "source": [
    "# HW Instructions\n",
    "\n",
    "## 🚧 Cells\n",
    "All the cells identified with a 🚧 should be completed, either by a code or an written answer.\n",
    "You can add as many cells as you want, but in general cells are already in place.\n",
    "\n",
    "\n",
    "🚧 **TODO** 🚧\n",
    "\n",
    "*Requires to complete a code (can be completed with optional text cells if you find it relevant).*\n",
    "\n",
    "or\n",
    "\n",
    "🚧 **Question** 🚧\n",
    "\n",
    "*Requires a written answer (can be completed with optional code cells if you find it relevant).*\n",
    "\n",
    "## 🔴 Test cells\n",
    "Cells identified with 🔴 should be left untouched and shouldn't return any error.\n",
    "\n",
    "## Presentation\n",
    "The overall presentation of the notebook will account in the grading process.\n",
    "Some advice:\n",
    "- Give title to your figures.\n",
    "- Put legends on the figures.\n",
    "- Comment the figures if they are not self-explanatory.\n",
    "- Add comment in the code if not self-explanatory.\n",
    "- Review your notebook before submitting.\n",
    "- Feel free to add any additional illustration if you find it will bring something.\n",
    "- Remain as concise as possible when answering written answer, emphasize the important points.\n",
    "\n",
    "**We cannot debug every notebooks. The notebook should run entirely from the start to the end without any error. If one cell returns an error during the execution, only the cells before the error will be graded.**\n",
    "\n"
   ]
  },
  {
   "cell_type": "markdown",
   "metadata": {
    "id": "PaBJpPWfW45L"
   },
   "source": [
    "# HW Introduction\n",
    "\n",
    "## Hands on with NLP preprocessing\n",
    "\n",
    "The goal of this first homework is to introduce the preprocessing steps in NLP. This step is necessary, very valuable but often not emphasized enough (because it is boring). \n",
    "\n",
    "## Plan\n",
    "\n",
    "1. Load the data\n",
    "2. Analyze and clean the text data\n",
    "3. Format the texts for Deep Learning models and pytorch (i.e. tokenize, etc).\n",
    "\n",
    "## Notations\n",
    "\n",
    "Throughout the HW, a text will be called either **document** or **text**.\n",
    "\n",
    "\n",
    "# I - Data loading"
   ]
  },
  {
   "cell_type": "code",
   "execution_count": 223,
   "metadata": {
    "id": "Eri6thqeX_MC"
   },
   "outputs": [],
   "source": [
    "def download_imdb(output_path: str, force_download: bool = False):\n",
    "    \"\"\"Save the data to `output_path`.\"\"\"\n",
    "    output_path = Path(output_path)\n",
    "    if (not output_path.is_file()) or force_download:\n",
    "        gdd.download_file_from_google_drive(\n",
    "            file_id=\"1zfM5E6HvKIe7f3rEt1V2gBpw5QOSSKQz\",\n",
    "            dest_path=output_path,\n",
    "        )\n",
    "    return"
   ]
  },
  {
   "cell_type": "code",
   "execution_count": 224,
   "metadata": {
    "id": "BJ9S1a1jW45M"
   },
   "outputs": [],
   "source": [
    "DATA_PATH = \"data/imdb_reviews.csv\"\n",
    "download_imdb(output_path=DATA_PATH, force_download=False)"
   ]
  },
  {
   "cell_type": "markdown",
   "metadata": {
    "id": "NGT4vDXmZDTT"
   },
   "source": [
    "🚧 **TODO** 🚧\n",
    "\n",
    "Read the file to a Pandas dataframe (the file is stored as a csv). Make sure the \"review\" field is of dtype `string` and label of dtype `int`.\n",
    "\n",
    "Hint: https://pandas.pydata.org/docs/user_guide/text.html (you can specify the `dtype` argument of pandas constructor).\n"
   ]
  },
  {
   "cell_type": "code",
   "execution_count": 225,
   "metadata": {
    "id": "gbQw5TGPha20"
   },
   "outputs": [],
   "source": [
    "df_imdb = pd.read_csv(DATA_PATH, dtype={\"review\": \"string\", \"label\": int})"
   ]
  },
  {
   "cell_type": "code",
   "execution_count": 226,
   "metadata": {
    "id": "CAv44K5tpMHF"
   },
   "outputs": [
    {
     "name": "stdout",
     "output_type": "stream",
     "text": [
      "string\n"
     ]
    }
   ],
   "source": [
    "text_column = df_imdb[\"review\"]\n",
    "label_column = df_imdb[\"label\"]\n",
    "print(text_column.dtype)"
   ]
  },
  {
   "cell_type": "markdown",
   "metadata": {
    "id": "hqaE3bBDpPVK"
   },
   "source": [
    "🔴 **TEST**"
   ]
  },
  {
   "cell_type": "code",
   "execution_count": 227,
   "metadata": {
    "id": "-gMHYuJHcQB5"
   },
   "outputs": [],
   "source": [
    "assert label_column.dtype == int\n",
    "assert text_column.dtype == \"string\""
   ]
  },
  {
   "cell_type": "markdown",
   "metadata": {
    "id": "EMTjOSWEbM6Q"
   },
   "source": [
    "🚧 **TODO** 🚧\n",
    "\n",
    "Print some values of the dataframe.\n",
    "- Print 3 samples of text.\n",
    "- Print their associated labels.\n",
    "- Print some statistics of the dataset.\n",
    "\n"
   ]
  },
  {
   "cell_type": "code",
   "execution_count": 228,
   "metadata": {
    "id": "-aQ0d6IIgRO_"
   },
   "outputs": [
    {
     "name": "stdout",
     "output_type": "stream",
     "text": [
      "==== 3 first texts ====\n",
      "0    Once again Mr. Costner has dragged out a movie...\n",
      "1    This is an example of why the majority of acti...\n",
      "2    First of all I hate those moronic rappers, who...\n",
      "Name: review, dtype: string\n",
      "\n",
      "==== Associated labels of the 3 first texts ====\n",
      "0    0\n",
      "1    0\n",
      "2    0\n",
      "Name: label, dtype: int64\n",
      "\n",
      "=== Dataset statistics ===\n",
      "Number of texts\n",
      "62155\n",
      "\n",
      "Average text length (in characters)\n",
      "1374.0382431019227\n",
      "\n",
      "% of positive texts\n",
      "49.67\n"
     ]
    }
   ],
   "source": [
    "print(\"==== 3 first texts ====\")\n",
    "print(text_column.head(3))\n",
    "\n",
    "\n",
    "print(\"\\n==== Associated labels of the 3 first texts ====\")\n",
    "print(label_column.head(3))\n",
    "\n",
    "\n",
    "print(\"\\n=== Dataset statistics ===\")\n",
    "print(\"Number of texts\")\n",
    "print(len(text_column))\n",
    "\n",
    "\n",
    "print(\"\\nAverage text length (in characters)\")\n",
    "print(text_column.str.len().mean())\n",
    "\n",
    "\n",
    "print(\"\\n% of positive texts\")\n",
    "print((label_column.mean() * 100).round(2))"
   ]
  },
  {
   "cell_type": "markdown",
   "metadata": {
    "id": "ON1bQK5jhz4E"
   },
   "source": [
    "## II - Clean and format the data.\n",
    "For this first TP, we want to focus on very simple tasks.\n",
    "Therefore, we want to avoid as much as possible rare and uncommon words that will be considered as outliers.\n",
    "\n",
    "We will try to figure out what kind of cleaning we can perform, by having a look at the data.\n",
    "\n",
    "The plan for this part will be:\n",
    "1. Split the strings as a list of words.\n",
    "2. Find the outliers in the corpus.\n",
    "3. Propose some methods to clean them."
   ]
  },
  {
   "cell_type": "markdown",
   "metadata": {
    "id": "5XLRgi5giy_g"
   },
   "source": [
    "### 1. Tokenization\n",
    "First, we will split our texts into words.\n",
    "Splitting a string into a list of smaller substrings is called **tokenization**, and the substrings are called **tokens**.\n",
    "\n",
    "The simplest way to tokenize a text is to split it by words, according to whitespaces.\n",
    "\n",
    "Then, each word encountered in the training set is stored and uniquely identified through an id.\n",
    "\n"
   ]
  },
  {
   "cell_type": "markdown",
   "metadata": {
    "id": "H-HLOTivIfSP"
   },
   "source": [
    "🚧 **Question** 🚧\n",
    "\n",
    "By doing so, we put a huge emphasis on words within documents.\n",
    "\n",
    "a) Intuitively, why is it relevant? For instance compare to splitting by character.\n",
    "\n",
    "b) Cite some methods discussed during the course that rely on word-based representations of documents.\n",
    "\n",
    "**Answer**\n",
    "\n",
    "a) It is relevant to put emphasis on words as each word has its own meaning. It is also an efficient way to proceed as tokenization can easily be computed. However, it also has its drawbacks such as:\n",
    "- Not being able to understand different semantic meanings to the same word\n",
    "- A fairly big dictionary (list of tokens available)\n",
    "- Hard to deal with Out of Vocabulary Words\n",
    "\n",
    "Splitting by character would remove the second drawback but is usually not used because a character by itself does not carry a lot of meaning\n",
    "\n",
    "b) Word2Vec, Glove, Skip Gram"
   ]
  },
  {
   "cell_type": "markdown",
   "metadata": {
    "id": "jYwJDXAUIc7C"
   },
   "source": [
    "🚧 **TODO** 🚧\n",
    "\n",
    "Implement a tokenizer based on whitespace splitting. For now, the tokenizer should only be able to store each unique word found in the dataset."
   ]
  },
  {
   "cell_type": "code",
   "execution_count": 229,
   "metadata": {
    "id": "791KTHn9W45N"
   },
   "outputs": [],
   "source": [
    "class WhiteSpaceTokenizer:\n",
    "    def __init__(self):\n",
    "        # The vocabulary will store the mapping between text tokens and their id.\n",
    "        self.vocab = {}\n",
    "        self.id_to_token = {}\n",
    "\n",
    "        # We will keep track of the number of times a word appears in the corpus.\n",
    "        self.frequencies = {}\n",
    "\n",
    "    def split_text(self, text: str) -> List[str]:\n",
    "        \"\"\"Converts the text to a list of tokens (substrings).\"\"\"\n",
    "        return text.split(\" \")\n",
    "\n",
    "    def fit(self, corpus: List[str]):\n",
    "        \"\"\"Fits the tokenizer to a list of texts to construct its vocabulary.\"\"\"\n",
    "        current_id = 0\n",
    "        for text in tqdm(corpus):\n",
    "\n",
    "            # Split into substrings.\n",
    "            list_tokens = self.split_text(text)\n",
    "\n",
    "            for token in list_tokens:\n",
    "\n",
    "                # Add the token to the vocabulary\n",
    "                token_id = self.vocab.get(token, None)\n",
    "\n",
    "                token_not_in_vocab = token_id is None\n",
    "                if token_not_in_vocab:\n",
    "                    self.vocab[token] = current_id\n",
    "                    self.id_to_token[current_id] = token\n",
    "                    self.frequencies[current_id] = 0\n",
    "                    token_id = current_id\n",
    "                    current_id += 1\n",
    "\n",
    "                self.frequencies[token_id] += 1\n",
    "\n",
    "        # Total number of words in vocab.\n",
    "        self.num_words = len(self.vocab)\n",
    "        print(f\"Built a vocabulary of {self.num_words} words.\")"
   ]
  },
  {
   "cell_type": "markdown",
   "metadata": {
    "id": "geTlVAEGpa4n"
   },
   "source": [
    "🔴 **TEST**"
   ]
  },
  {
   "cell_type": "code",
   "execution_count": 230,
   "metadata": {
    "id": "joZuRcZ7nc3N"
   },
   "outputs": [
    {
     "data": {
      "application/vnd.jupyter.widget-view+json": {
       "model_id": "f1ac49515b324333b9d3f0a97c2ac934",
       "version_major": 2,
       "version_minor": 0
      },
      "text/plain": [
       "  0%|          | 0/2 [00:00<?, ?it/s]"
      ]
     },
     "metadata": {},
     "output_type": "display_data"
    },
    {
     "name": "stdout",
     "output_type": "stream",
     "text": [
      "Built a vocabulary of 3 words.\n"
     ]
    }
   ],
   "source": [
    "toy_corpus = [\"a cat\", \"a dog\"]\n",
    "tokenizer = WhiteSpaceTokenizer()\n",
    "tokenizer.fit(toy_corpus)\n",
    "assert tokenizer.vocab == {\"a\": 0, \"cat\": 1, \"dog\": 2}\n",
    "assert tokenizer.frequencies == {0: 2, 1: 1, 2: 1}\n",
    "assert tokenizer.num_words == 3"
   ]
  },
  {
   "cell_type": "markdown",
   "metadata": {
    "id": "fct0L_9EoGWT"
   },
   "source": [
    "🚧 **TODO** 🚧\n",
    "\n",
    "Fits the tokenizer on the imdb reviews."
   ]
  },
  {
   "cell_type": "code",
   "execution_count": 231,
   "metadata": {
    "id": "59qiHgwmmcfB"
   },
   "outputs": [
    {
     "data": {
      "application/vnd.jupyter.widget-view+json": {
       "model_id": "89786c996713460dbf5faf6e9588c8ec",
       "version_major": 2,
       "version_minor": 0
      },
      "text/plain": [
       "  0%|          | 0/62155 [00:00<?, ?it/s]"
      ]
     },
     "metadata": {},
     "output_type": "display_data"
    },
    {
     "name": "stdout",
     "output_type": "stream",
     "text": [
      "Built a vocabulary of 475277 words.\n"
     ]
    }
   ],
   "source": [
    "tokenizer = WhiteSpaceTokenizer()\n",
    "tokenizer.fit(text_column)"
   ]
  },
  {
   "cell_type": "markdown",
   "metadata": {
    "id": "LHBeN-x-2fhB"
   },
   "source": [
    "### 2. Noise analysis"
   ]
  },
  {
   "cell_type": "markdown",
   "metadata": {
    "id": "3H-GBNNVobV8"
   },
   "source": [
    "🚧 **TODO** 🚧\n",
    "\n",
    "Print 50 random tokens."
   ]
  },
  {
   "cell_type": "code",
   "execution_count": 232,
   "metadata": {
    "id": "AI2knE7em9HT"
   },
   "outputs": [
    {
     "name": "stdout",
     "output_type": "stream",
     "text": [
      "['\\\\\"city', 'insidious,', 'movie.Brought', 'Doolittle\\\\\"', 'Avril', 'borderlined', 'Hosmer', \"Wyngarde's\", 'Ricks.', 'naysayers,', 'Deverell', 'strong-spirited', 'prophecy', 'Laresca', 'Hendrix.', 'brother!!)', '\\\\\"Cement\\\\\"', 'directed...', \"/>'Never'\", 'Chance,', 'HonestlyÂ?', 'Literally', 'Fought', 'homophobic', 'Heroes.', 'Days...so', 'Porter,', 'room...at', 'doom-filled', 'osteopath,...<br', 'colonizing', '\\\\Hello\\\\\"', 'Drury', 'ELIZABETH)', 'director/low', '(f.ex.', 'reeked.', 'Trees\\\\\"', '\\\\\"quirky', 'choosened', 'Guilgud', '\"baddies\"', 'vaude', 'employer', 'Redmann),', 'Manchu,', 'chameleon.', 'Griswalds', 'eating!\"', 'stone-faced.<br']\n"
     ]
    }
   ],
   "source": [
    "random.seed(0)\n",
    "print(random.sample(list(tokenizer.vocab.keys()), 50))"
   ]
  },
  {
   "cell_type": "markdown",
   "metadata": {
    "id": "buQNo3ZsrXq4"
   },
   "source": [
    "🚧 **QUESTION** 🚧\n",
    "\n",
    "What do you think of the tokens? Do they look like simple \"words\" as expected?\n",
    "\n",
    "Analyze the noise and explain why we got such weird vocabulary.\n",
    "\n",
    "**Answer**\n",
    "\n",
    "There are several problems here:\n",
    "- The same word with different spellings (e.g. capitalized or not, plurals etc.) will generate different words\n",
    "- Proper nouns will be included\n",
    "- Some non alpha-numeric characters are present due to how the data was loaded\n",
    "\n",
    "This is due to the fact that the only criterion on which the data was split was based on the \" \" separator"
   ]
  },
  {
   "cell_type": "markdown",
   "metadata": {
    "id": "bbt1bQ2SsK4l"
   },
   "source": [
    "### 3. Cleaning\n",
    "\n",
    "🚧 **TODO** 🚧\n",
    "\n",
    "You are going to implement some of the classical cleaning methods.\n",
    "1. Lower case the string.\n",
    "2. String normalization, i.e., replace accentuated characters by standard version (\"â -> a\") (hint: https://stackoverflow.com/a/14121678).\n",
    "3. Remove non alpha-numeric characters (use Python regex package `re`).\n",
    "4. Replace numeric characters by the token `'<NUM>'` (use the package `re`).\n",
    "5. Remove double whitespaces (use the package `re`).\n"
   ]
  },
  {
   "cell_type": "code",
   "execution_count": 233,
   "metadata": {
    "id": "orSU21XPfBhL"
   },
   "outputs": [],
   "source": [
    "import unicodedata\n",
    "import re"
   ]
  },
  {
   "cell_type": "code",
   "execution_count": 234,
   "metadata": {
    "id": "Y5EqoG1dsWMv"
   },
   "outputs": [],
   "source": [
    "def preprocess_text(text: str) -> str:\n",
    "    # lower case\n",
    "    text = text.lower()\n",
    "\n",
    "    # string normalization\n",
    "    def normalize_string(content: str) -> str:\n",
    "        return (\n",
    "            unicodedata.normalize(\"NFD\", content)\n",
    "            .encode(\"ascii\", \"ignore\")\n",
    "            .decode(\"utf-8\")\n",
    "        )\n",
    "\n",
    "    text = normalize_string(text)\n",
    "    # remove non alpha numeric characters.\n",
    "    text = re.sub(r\"[^a-z0-9 ]\", \" \", text)\n",
    "\n",
    "    # replace numbers by the <NUM> token.\n",
    "    text = re.sub(r\"\\d+\", \"<NUM>\", text)\n",
    "\n",
    "    # remove double whitespaces as well as trailing and leading whitespaces.\n",
    "    text = re.sub(r\"\\s+\", \" \", text)\n",
    "    text = text.strip()\n",
    "\n",
    "    return text"
   ]
  },
  {
   "cell_type": "markdown",
   "metadata": {
    "id": "yiAbpQrbptvH"
   },
   "source": [
    "🔴 **TEST**"
   ]
  },
  {
   "cell_type": "code",
   "execution_count": 235,
   "metadata": {
    "id": "cfmJ1GDzy7-f"
   },
   "outputs": [
    {
     "name": "stdout",
     "output_type": "stream",
     "text": [
      "i lived in san francisco for <NUM> years\n",
      "40\n"
     ]
    }
   ],
   "source": [
    "noisy_text = \"Ï   lîved  in    San-Françisco...  ! for 12 years.\"\n",
    "clean_text = \"i lived in san francisco for <NUM> years\"\n",
    "print(preprocess_text(noisy_text))\n",
    "print(len(clean_text))\n",
    "assert preprocess_text(noisy_text) == clean_text"
   ]
  },
  {
   "cell_type": "markdown",
   "metadata": {
    "id": "LkO-jZPY0mDy"
   },
   "source": [
    "🚧 **TODO** 🚧\n",
    "\n",
    "Add column `clean_review` to the dataframe, with the clean text.\n",
    "\n",
    "Store the `clean_review` column to the variable `clean_column`."
   ]
  },
  {
   "cell_type": "code",
   "execution_count": 236,
   "metadata": {
    "id": "tMO7SaQO0uSr"
   },
   "outputs": [],
   "source": [
    "df_imdb[\"clean_review\"] = df_imdb[\"review\"].apply(preprocess_text)\n",
    "\n",
    "clean_column = df_imdb[\"clean_review\"]"
   ]
  },
  {
   "cell_type": "markdown",
   "metadata": {
    "id": "M0Dl9i7X1JWb"
   },
   "source": [
    "🚧 **TODO** 🚧\n",
    "\n",
    "Run the tokenizer on the clean text and print 50 random tokens."
   ]
  },
  {
   "cell_type": "code",
   "execution_count": 237,
   "metadata": {
    "id": "koSGantW1SL1"
   },
   "outputs": [
    {
     "data": {
      "application/vnd.jupyter.widget-view+json": {
       "model_id": "b08f90ff857f43f4ae70e4d1c095a876",
       "version_major": 2,
       "version_minor": 0
      },
      "text/plain": [
       "  0%|          | 0/62155 [00:00<?, ?it/s]"
      ]
     },
     "metadata": {},
     "output_type": "display_data"
    },
    {
     "name": "stdout",
     "output_type": "stream",
     "text": [
      "Built a vocabulary of 101917 words.\n"
     ]
    }
   ],
   "source": [
    "tokenizer = WhiteSpaceTokenizer()\n",
    "tokenizer.fit(clean_column)"
   ]
  },
  {
   "cell_type": "code",
   "execution_count": 238,
   "metadata": {
    "id": "DJlHz9Sw1c56"
   },
   "outputs": [
    {
     "name": "stdout",
     "output_type": "stream",
     "text": [
      "['autopsied', 'technocratic', 'joyeux', 'nuremberg', 'breakup', 'siphon', 'aristocat', 'dunghill', 'oaters', 'envogue', 'terrrrrrrrrrrrrrrriiiiiiiiiiiible', 'ruta', 'seaman', 'yankovich', 'rents', 'heeding', 'cigarette', 'crispian', 'meatballs', 'draza', 'favoritism', 'seperated', 'japanse', 'visors', 'debacles', 'mccamus', 'rwanda', 'alyce', 'claire', 'perfetta', 'triply', 'francon', 'demonian', 'sharpened', 'stripclub', 'feint', 'winkster', 'krick', 'coursed', 'leif', 'buio', 'doose', 'snorkeling', 'bhp', 'tornatore', 'cheaters', 'noch', 'tableaux', 'cons', 'unstrained']\n"
     ]
    }
   ],
   "source": [
    "random.seed(0)\n",
    "print(random.sample(list(tokenizer.vocab.keys()), 50))"
   ]
  },
  {
   "cell_type": "markdown",
   "metadata": {
    "id": "Sq8CzSBw1vsI"
   },
   "source": [
    "🚧 **Question** 🚧\n",
    "\n",
    "What do you think of the new tokens? Are they better? What common noise still remain? (Feel free to print more tokens to get a better intuition).\n",
    "\n",
    "Suggest some methods to improve again the tokenization (at least 2), based on either these results or on something you think we could have done better.\n",
    "\n",
    "**Answer**\n",
    "\n",
    "The new tokens look more like proper English words for most of them. However we still have some \"noise\", for example words that are misspelled (intentionally or not, e.g. 'terrrrrrrrrrrrrrrriiiiiiiiiiiible'). \n",
    "\n",
    "To improve results, we could for instance connect to a complete dictionary and map all the word tokens that are not in the English dictionary to an UNK token. We would lose a bit of information in doing so but we would greatly reduce the noise. \n",
    "We could also use libraries like SymSpell to correct any misspelling which would reduce the size of the vocabulary without losing any information (maybe a little bit of nuance when shortening terrrrrible to terrible though).\n",
    "\n",
    "Another way to reduce noise in tokenization is by applying stemming or lemmatization. These techniques reduce words to their base or root forms. For instance, \"running\" becomes \"run\"\n"
   ]
  },
  {
   "cell_type": "markdown",
   "metadata": {
    "id": "ohqx368M2ZiG"
   },
   "source": [
    "### Tokens analysis\n",
    "\n",
    "\n",
    "🚧 **TODO** 🚧\n",
    "\n",
    "Show the frequencies repartition.\n",
    "This should be a histogram, with 100 bins, with the frequencies on the x axis and the number of words associated to the frequencies on the y axis (see https://matplotlib.org/stable/api/_as_gen/matplotlib.pyplot.hist.html).\n",
    "\n",
    "Use logarithm scale for y."
   ]
  },
  {
   "cell_type": "code",
   "execution_count": 239,
   "metadata": {
    "id": "r8N76FrE3fyt"
   },
   "outputs": [
    {
     "name": "stdout",
     "output_type": "stream",
     "text": [
      "[869211, 423347, 421876, 378005, 349147, 273189, 263944, 243970, 243951, 221852]\n"
     ]
    },
    {
     "data": {
      "text/plain": [
       "(array([1.0172e+05, 8.8000e+01, 3.6000e+01, 1.7000e+01, 1.0000e+01,\n",
       "        7.0000e+00, 8.0000e+00, 2.0000e+00, 4.0000e+00, 1.0000e+00,\n",
       "        4.0000e+00, 1.0000e+00, 2.0000e+00, 4.0000e+00, 0.0000e+00,\n",
       "        0.0000e+00, 0.0000e+00, 0.0000e+00, 1.0000e+00, 0.0000e+00,\n",
       "        0.0000e+00, 1.0000e+00, 1.0000e+00, 0.0000e+00, 0.0000e+00,\n",
       "        1.0000e+00, 0.0000e+00, 0.0000e+00, 2.0000e+00, 0.0000e+00,\n",
       "        1.0000e+00, 1.0000e+00, 0.0000e+00, 0.0000e+00, 0.0000e+00,\n",
       "        0.0000e+00, 0.0000e+00, 0.0000e+00, 0.0000e+00, 0.0000e+00,\n",
       "        1.0000e+00, 0.0000e+00, 0.0000e+00, 1.0000e+00, 0.0000e+00,\n",
       "        0.0000e+00, 0.0000e+00, 0.0000e+00, 2.0000e+00, 0.0000e+00,\n",
       "        0.0000e+00, 0.0000e+00, 0.0000e+00, 0.0000e+00, 0.0000e+00,\n",
       "        0.0000e+00, 0.0000e+00, 0.0000e+00, 0.0000e+00, 0.0000e+00,\n",
       "        0.0000e+00, 0.0000e+00, 0.0000e+00, 0.0000e+00, 0.0000e+00,\n",
       "        0.0000e+00, 0.0000e+00, 0.0000e+00, 0.0000e+00, 0.0000e+00,\n",
       "        0.0000e+00, 0.0000e+00, 0.0000e+00, 0.0000e+00, 0.0000e+00,\n",
       "        0.0000e+00, 0.0000e+00, 0.0000e+00, 0.0000e+00, 0.0000e+00,\n",
       "        0.0000e+00, 0.0000e+00, 0.0000e+00, 0.0000e+00, 0.0000e+00,\n",
       "        0.0000e+00, 0.0000e+00, 0.0000e+00, 0.0000e+00, 0.0000e+00,\n",
       "        0.0000e+00, 0.0000e+00, 0.0000e+00, 0.0000e+00, 0.0000e+00,\n",
       "        0.0000e+00, 0.0000e+00, 0.0000e+00, 0.0000e+00, 1.0000e+00]),\n",
       " array([1.000000e+00, 8.693100e+03, 1.738520e+04, 2.607730e+04,\n",
       "        3.476940e+04, 4.346150e+04, 5.215360e+04, 6.084570e+04,\n",
       "        6.953780e+04, 7.822990e+04, 8.692200e+04, 9.561410e+04,\n",
       "        1.043062e+05, 1.129983e+05, 1.216904e+05, 1.303825e+05,\n",
       "        1.390746e+05, 1.477667e+05, 1.564588e+05, 1.651509e+05,\n",
       "        1.738430e+05, 1.825351e+05, 1.912272e+05, 1.999193e+05,\n",
       "        2.086114e+05, 2.173035e+05, 2.259956e+05, 2.346877e+05,\n",
       "        2.433798e+05, 2.520719e+05, 2.607640e+05, 2.694561e+05,\n",
       "        2.781482e+05, 2.868403e+05, 2.955324e+05, 3.042245e+05,\n",
       "        3.129166e+05, 3.216087e+05, 3.303008e+05, 3.389929e+05,\n",
       "        3.476850e+05, 3.563771e+05, 3.650692e+05, 3.737613e+05,\n",
       "        3.824534e+05, 3.911455e+05, 3.998376e+05, 4.085297e+05,\n",
       "        4.172218e+05, 4.259139e+05, 4.346060e+05, 4.432981e+05,\n",
       "        4.519902e+05, 4.606823e+05, 4.693744e+05, 4.780665e+05,\n",
       "        4.867586e+05, 4.954507e+05, 5.041428e+05, 5.128349e+05,\n",
       "        5.215270e+05, 5.302191e+05, 5.389112e+05, 5.476033e+05,\n",
       "        5.562954e+05, 5.649875e+05, 5.736796e+05, 5.823717e+05,\n",
       "        5.910638e+05, 5.997559e+05, 6.084480e+05, 6.171401e+05,\n",
       "        6.258322e+05, 6.345243e+05, 6.432164e+05, 6.519085e+05,\n",
       "        6.606006e+05, 6.692927e+05, 6.779848e+05, 6.866769e+05,\n",
       "        6.953690e+05, 7.040611e+05, 7.127532e+05, 7.214453e+05,\n",
       "        7.301374e+05, 7.388295e+05, 7.475216e+05, 7.562137e+05,\n",
       "        7.649058e+05, 7.735979e+05, 7.822900e+05, 7.909821e+05,\n",
       "        7.996742e+05, 8.083663e+05, 8.170584e+05, 8.257505e+05,\n",
       "        8.344426e+05, 8.431347e+05, 8.518268e+05, 8.605189e+05,\n",
       "        8.692110e+05]),\n",
       " <BarContainer object of 100 artists>)"
      ]
     },
     "execution_count": 239,
     "metadata": {},
     "output_type": "execute_result"
    },
    {
     "data": {
      "image/png": "[encoded data removed]",
      "text/plain": [
       "<Figure size 640x480 with 1 Axes>"
      ]
     },
     "metadata": {},
     "output_type": "display_data"
    }
   ],
   "source": [
    "frequencies = sorted(list(tokenizer.frequencies.values()), reverse=True)\n",
    "print(frequencies[:10])\n",
    "plt.hist(frequencies, bins=100, log=True)"
   ]
  },
  {
   "cell_type": "markdown",
   "metadata": {
    "id": "qX-WtALB8mam"
   },
   "source": [
    "🚧 **Question** 🚧\n",
    "\n",
    "What do you think of the repartition?\n",
    "\n",
    "**Answer**\n",
    "\n",
    "The distribution is very strongly tailed, which only makes sense because some words occur way more often than others. For example, the peak on the far right definitely corresponds to the word \"the\"\n",
    "\n"
   ]
  },
  {
   "cell_type": "markdown",
   "metadata": {
    "id": "zXXq8T04fRYM"
   },
   "source": [
    "🚧 **TODO** 🚧\n",
    "\n",
    "Plot the frequencies repartition. Find the best corresponding Zipf law (seen during the course) and plot it on the same figure."
   ]
  },
  {
   "cell_type": "code",
   "execution_count": 240,
   "metadata": {
    "id": "PJeJUqQe_jfo"
   },
   "outputs": [
    {
     "name": "stdout",
     "output_type": "stream",
     "text": [
      "[1, 2, 3, 4, 5, 6, 7, 8, 9, 10]\n",
      "[869211, 423347, 421876, 378005, 349147, 273189, 263944, 243970, 243951, 221852]\n"
     ]
    },
    {
     "name": "stderr",
     "output_type": "stream",
     "text": [
      "/tmp/ipykernel_9699/4046479213.py:5: RuntimeWarning: overflow encountered in power\n",
      "  normalizing_constant = np.sum(1 / np.arange(1, 10000, 1) ** alpha)\n",
      "/tmp/ipykernel_9699/4046479213.py:6: RuntimeWarning: overflow encountered in power\n",
      "  return 1 / rank**alpha / normalizing_constant\n",
      "/tmp/ipykernel_9699/4046479213.py:13: OptimizeWarning: Covariance of the parameters could not be estimated\n",
      "  params, _ = curve_fit(zipf_law, ranks, frequencies)\n"
     ]
    },
    {
     "data": {
      "image/png": "[encoded data removed]",
      "text/plain": [
       "<Figure size 1000x600 with 1 Axes>"
      ]
     },
     "metadata": {},
     "output_type": "display_data"
    }
   ],
   "source": [
    "from scipy.optimize import curve_fit\n",
    "\n",
    "\n",
    "def zipf_law(rank, alpha):\n",
    "    normalizing_constant = np.sum(1 / np.arange(1, 10000, 1) ** alpha)\n",
    "    return 1 / rank**alpha / normalizing_constant\n",
    "\n",
    "\n",
    "ranks = list(range(1, len(frequencies) + 1))\n",
    "\n",
    "print(ranks[:10])\n",
    "print(frequencies[:10])\n",
    "params, _ = curve_fit(zipf_law, ranks, frequencies)\n",
    "\n",
    "# Step 7: Plot the actual word frequencies and the fitted Zipf law\n",
    "plt.figure(figsize=(10, 6))\n",
    "\n",
    "# Plot actual data (frequencies vs ranks)\n",
    "plt.loglog(ranks, frequencies, label=\"Observed Data\", marker=\"o\")\n",
    "\n",
    "# Plot the best fitting Zipf's law\n",
    "plt.loglog(\n",
    "    ranks,\n",
    "    zipf_law(ranks, *params),\n",
    "    label=f\"Zipf fit: $\\\\alpha = {params[0]:.2f}$\",\n",
    "    linestyle=\"--\",\n",
    ")\n",
    "\n",
    "# Labels and titles\n",
    "plt.xlabel(\"Rank (log scale)\")\n",
    "plt.ylabel(\"Frequency (log scale)\")\n",
    "plt.title(\"Observed Word Frequencies vs Zipf's Law Fit\")\n",
    "plt.legend()\n",
    "plt.grid(True)\n",
    "plt.show()"
   ]
  },
  {
   "cell_type": "markdown",
   "metadata": {
    "id": "FB--kpAVE7p_"
   },
   "source": [
    "## III - DataLoading\n",
    "\n",
    "This final part aims at making your dataset compatible with PyTorch.\n",
    "\n",
    "### Text representation\n",
    "\n",
    "Since we plan to work with PyTorch, we need to work with `tensors`. But since a text is only composed of strings, we need to find some numerical representations for the text.\n",
    "\n",
    "The most basic method is to represent a text by list of tokens. We already used a simple WhiteSpace tokenizer earlier to analyze our texts before cleaning. Now we will use it to *represent* the texts.\n",
    "\n",
    "🚧 **TODO** 🚧\n",
    "\n",
    "Modify the code of the `WhiteSpaceTokenizer` so that it could encode a text into a list of token ids and do the reverse (i.e. decode a list of token ids to a text)."
   ]
  },
  {
   "cell_type": "code",
   "execution_count": 241,
   "metadata": {
    "id": "-8a20vOKJ5Wz"
   },
   "outputs": [],
   "source": [
    "class WhiteSpaceTokenizer:\n",
    "    def __init__(self):\n",
    "        # The vocabulary will store the mapping between text tokens and their id.\n",
    "        self.vocab = {}\n",
    "        self.id_to_token = {}\n",
    "\n",
    "        # We will keep track of the number of times a word appears in the corpus.\n",
    "        self.frequencies = {}\n",
    "\n",
    "    def split_text(self, text: str) -> List[str]:\n",
    "        \"\"\"Converts the text to a list of tokens (substrings).\"\"\"\n",
    "        return text.split(\" \")\n",
    "\n",
    "    def encode(self, text: str) -> List[int]:\n",
    "        \"\"\"Take a text as input and return its associated tokenization, as a list of ids.\"\"\"\n",
    "        encoded_text = []\n",
    "        for word in self.split_text(text):\n",
    "            try:\n",
    "                encoded_text.append(self.vocab[word])\n",
    "            except KeyError:\n",
    "                encoded_text.append(self.vocab[\"<UNK>\"])\n",
    "        return encoded_text\n",
    "\n",
    "    def decode(self, ids: List[int]) -> str:\n",
    "        decoded_text = []\n",
    "        for id in ids:\n",
    "            try:\n",
    "                decoded_text.append(self.id_to_token[id])\n",
    "            except KeyError:\n",
    "                decoded_text.append(\"<UNK>\")\n",
    "        return \" \".join(decoded_text)\n",
    "\n",
    "    def fit(self, corpus: List[str]):\n",
    "        \"\"\"Fits the tokenizer to a list of texts to construct its vocabulary.\"\"\"\n",
    "        current_id = 0\n",
    "        for text in tqdm(corpus):\n",
    "\n",
    "            # Split into substrings.\n",
    "            list_tokens = self.split_text(text)\n",
    "\n",
    "            for token in list_tokens:\n",
    "\n",
    "                # Add the token to the vocabulary\n",
    "                token_id = self.vocab.get(token, None)\n",
    "\n",
    "                token_not_in_vocab = token_id is None\n",
    "                if token_not_in_vocab:\n",
    "                    self.vocab[token] = current_id\n",
    "                    self.id_to_token[current_id] = token\n",
    "                    self.frequencies[current_id] = 0\n",
    "                    token_id = current_id\n",
    "                    current_id += 1\n",
    "\n",
    "                self.frequencies[token_id] += 1\n",
    "\n",
    "        # Total number of words in vocab.\n",
    "        self.num_words = len(self.vocab)\n",
    "        print(f\"Built a vocabulary of {self.num_words} words.\")\n",
    "\n",
    "        # Creating an UNK token for out-of-vocabulary words.\n",
    "        self.vocab[\"<UNK>\"] = self.num_words\n",
    "        self.id_to_token[self.num_words] = \"<UNK>\""
   ]
  },
  {
   "cell_type": "markdown",
   "metadata": {
    "id": "EawK5ctWqjOQ"
   },
   "source": [
    "🔴 **TEST**"
   ]
  },
  {
   "cell_type": "code",
   "execution_count": 242,
   "metadata": {
    "id": "l1slN9MEKWjC"
   },
   "outputs": [
    {
     "data": {
      "application/vnd.jupyter.widget-view+json": {
       "model_id": "97570781679343dc8d018fd280609f4d",
       "version_major": 2,
       "version_minor": 0
      },
      "text/plain": [
       "  0%|          | 0/2 [00:00<?, ?it/s]"
      ]
     },
     "metadata": {},
     "output_type": "display_data"
    },
    {
     "name": "stdout",
     "output_type": "stream",
     "text": [
      "Built a vocabulary of 9 words.\n"
     ]
    }
   ],
   "source": [
    "tokenizer = WhiteSpaceTokenizer()\n",
    "toy_dataset = [\"the cat is in the kitchen\", \"i have a dog\"]\n",
    "tokenizer.fit(toy_dataset)\n",
    "text = \"i have a kitchen\"\n",
    "assert tokenizer.encode(text) == [5, 6, 7, 4]\n",
    "assert tokenizer.decode([0, 1, 2, 7, 8]) == \"the cat is a dog\""
   ]
  },
  {
   "cell_type": "markdown",
   "metadata": {
    "id": "imYmiv-PMiH4"
   },
   "source": [
    "🚧 **TODO** 🚧 Now fit it on your dataset."
   ]
  },
  {
   "cell_type": "code",
   "execution_count": 243,
   "metadata": {
    "id": "5-agmjJdMkHg"
   },
   "outputs": [
    {
     "data": {
      "application/vnd.jupyter.widget-view+json": {
       "model_id": "031d894d45884581b5b3174c75a32df4",
       "version_major": 2,
       "version_minor": 0
      },
      "text/plain": [
       "  0%|          | 0/62155 [00:00<?, ?it/s]"
      ]
     },
     "metadata": {},
     "output_type": "display_data"
    },
    {
     "name": "stdout",
     "output_type": "stream",
     "text": [
      "Built a vocabulary of 101917 words.\n"
     ]
    }
   ],
   "source": [
    "tokenizer = WhiteSpaceTokenizer()\n",
    "tokenizer.fit(clean_column)"
   ]
  },
  {
   "cell_type": "code",
   "execution_count": 244,
   "metadata": {},
   "outputs": [
    {
     "name": "stdout",
     "output_type": "stream",
     "text": [
      "[('once', 0), ('again', 1), ('mr', 2), ('costner', 3), ('has', 4), ('dragged', 5), ('out', 6), ('a', 7), ('movie', 8), ('for', 9)]\n",
      "[27, 37, 7, 1002]\n"
     ]
    }
   ],
   "source": [
    "# print 10 first elements of the vocabulary\n",
    "print(list(tokenizer.vocab.items())[:10])\n",
    "print(tokenizer.encode(\"i have a kitchen\"))"
   ]
  },
  {
   "cell_type": "markdown",
   "metadata": {
    "id": "ZHO2xKpiL1oI"
   },
   "source": [
    "🚧 **Question** 🚧\n",
    "Look at the following code:"
   ]
  },
  {
   "cell_type": "code",
   "execution_count": 245,
   "metadata": {
    "id": "l3zS9noAL0DO"
   },
   "outputs": [
    {
     "data": {
      "text/plain": [
       "[16, 3510, 57, 39, 16, 101917]"
      ]
     },
     "execution_count": 245,
     "metadata": {},
     "output_type": "execute_result"
    }
   ],
   "source": [
    "tokenizer.encode(\"the king is in the câstle\")"
   ]
  },
  {
   "cell_type": "markdown",
   "metadata": {
    "id": "Reu2H7UXM9J_"
   },
   "source": [
    "a) Does it raise an exception? Explain what is the problem with the above situation.\n",
    "\n",
    "b) In which real life scenario could such a situation appear?\n",
    "\n",
    "**Answer**\n",
    "\n",
    "a) This does raise a KeyError which arises because the word câstle does not appear in the vocabulary of the \"training\" dataset\n",
    "\n",
    "b) This can perfectly appear in a real life situation, for instance if a text at \"test\" time covers a new topic that was not covered in the training dataset. For instance, if I submit a NeurIPS paper to a tokenizer fitted on IMDB dataset, it's not going to be able to encode and decode all the technical terms in the paper"
   ]
  },
  {
   "cell_type": "markdown",
   "metadata": {
    "id": "XbJtCxPKOFYe"
   },
   "source": [
    "🚧 **TODO** 🚧\n",
    "\n",
    "Propose a simple modification of the tokenizer code such that it doesn't raise an exception anymore. It should handle the presence of any unknown token.\n",
    "\n",
    "The following code should't raise any exception."
   ]
  },
  {
   "cell_type": "markdown",
   "metadata": {
    "id": "-sxrH8mFqs6I"
   },
   "source": [
    "🔴 **TEST**"
   ]
  },
  {
   "cell_type": "code",
   "execution_count": 246,
   "metadata": {
    "id": "EJVfIsLqLQ4M"
   },
   "outputs": [],
   "source": [
    "allowed_characters = (string.ascii_uppercase + string.digits).replace(\" \", \"\")\n",
    "for _ in range(1000):\n",
    "    word_that_do_not_exist = \"\".join(random.choices(allowed_characters, k=100))\n",
    "    encoding = tokenizer.encode(f\"the king is in the {word_that_do_not_exist}\")\n",
    "    assert tokenizer.decode(encoding) == \"the king is in the <UNK>\""
   ]
  },
  {
   "cell_type": "markdown",
   "metadata": {
    "id": "DZ_O5jT_f0Mr"
   },
   "source": [
    "### Dataset for PyTorch\n",
    "We will be working wtth PyTorch most of the time.\n",
    "A good practice is to always iterate through a `torch.utils.data.DataLoader`, coupled with `torch.utils.data.Dataset`.\n",
    "\n",
    "🚧 **TODO** 🚧\n",
    "\n",
    "We will construct our custom `Dataset` class, that should be fully compatible with the PyTorch API. According to the [documentation](https://pytorch.org/tutorials/beginner/basics/data_tutorial.html#creating-a-custom-dataset-for-your-files), such a dataset should implement at least three methods, `__init__`, `__len__`, `__getitem__`. Complete the following code such that the dataset yields a list of texts.\n",
    "\n",
    "Requirements:\n",
    "1. The dataset class should read the data from the csv_file stored in `DATA_PATH`.\n",
    "2. The dataset should output the raw text, without any cleaning."
   ]
  },
  {
   "cell_type": "code",
   "execution_count": 247,
   "metadata": {
    "id": "Gqn2FgOthdcF"
   },
   "outputs": [],
   "source": [
    "from torch.utils.data import Dataset\n",
    "\n",
    "\n",
    "class IMDBDataset(Dataset):\n",
    "    def __init__(self, file_path: str):\n",
    "        self.data = pd.read_csv(file_path, dtype={\"review\": \"string\", \"label\": int})\n",
    "\n",
    "    def __len__(self):\n",
    "        return len(self.data)\n",
    "\n",
    "    def __getitem__(self, idx: int):\n",
    "        return self.data.loc[idx, \"review\"], self.data.loc[idx, \"label\"]"
   ]
  },
  {
   "cell_type": "markdown",
   "metadata": {
    "id": "T2kJbUUxtPi8"
   },
   "source": [
    "🔴 **TEST**"
   ]
  },
  {
   "cell_type": "code",
   "execution_count": 248,
   "metadata": {
    "id": "68tkYxHKiFzA"
   },
   "outputs": [],
   "source": [
    "imdb_dataset = IMDBDataset(file_path=DATA_PATH)\n",
    "text, label = imdb_dataset[0]\n",
    "assert text == text_column[0]\n",
    "assert label == label_column[0]"
   ]
  },
  {
   "cell_type": "markdown",
   "metadata": {
    "id": "1EaTm6k7QZHL"
   },
   "source": [
    "### DataLoader for PyTorch\n",
    "\n",
    "Now that the dataset is ready, we should be able to iterate through it. This is done with a `DataLoader`.\n",
    "\n",
    "The `DataLoader` also has some handy functionnalities:\n",
    "1. Batch iteration.\n",
    "2. Collate function.\n",
    "\n",
    "The collate function corresponds to the argument `collate_fn` of the constructor of `torch.utils.data.DataLoader`.\n",
    "\n",
    "This function is applied on the fly to each sample of the dataset.\n",
    "\n",
    "Our `IMDBDataset` only outputs raw texts. During the iteration through the `DataLoader`, we would like to:\n",
    "1. Clean the dataset with our cleaning function `preprocess_text`.\n",
    "2. Convert the text to a list of tokens.\n",
    "3. The `DataLoader`, for a batch size of `N`, should yield a dictionnary `{\"token_ids\": ..., \"labels\": ...,}` with `\"token_ids\"` corresponding to a list of `N` lists of tokens ids, and `\"labels\"` to a list of size `N` with the corresponding labels.\n",
    "\n",
    "🚧 **TODO** 🚧\n",
    "\n",
    "Write the `collate_fn` function so that the above requirements are satisfied (i.e., clean and tokenize)."
   ]
  },
  {
   "cell_type": "code",
   "execution_count": 249,
   "metadata": {
    "id": "hvbB5VMrSSzY"
   },
   "outputs": [],
   "source": [
    "def collate_fn(batch):\n",
    "    token_ids = [tokenizer.encode(preprocess_text(text)) for text, _ in batch]\n",
    "    labels = [label for _, label in batch]\n",
    "\n",
    "    return {\"token_ids\": token_ids, \"labels\": labels}"
   ]
  },
  {
   "cell_type": "code",
   "execution_count": 250,
   "metadata": {
    "id": "jGkthDygS5uT"
   },
   "outputs": [],
   "source": [
    "from torch.utils.data import DataLoader"
   ]
  },
  {
   "cell_type": "markdown",
   "metadata": {
    "id": "B0aAd6B2q4KC"
   },
   "source": [
    "🔴 **TEST**"
   ]
  },
  {
   "cell_type": "code",
   "execution_count": 251,
   "metadata": {
    "id": "YMkufgR1Sf8J"
   },
   "outputs": [],
   "source": [
    "for batch_size in range(1, 10):\n",
    "    dataloader = DataLoader(\n",
    "        dataset=imdb_dataset, batch_size=batch_size, collate_fn=collate_fn\n",
    "    )\n",
    "    for batch in dataloader:\n",
    "        token_ids = batch[\"token_ids\"]\n",
    "        labels = batch[\"labels\"]\n",
    "        assert len(token_ids) == batch_size\n",
    "        assert len(labels) == batch_size\n",
    "        assert isinstance(token_ids[0][0], int)\n",
    "        assert (isinstance(labels[0], int)) or isinstance(labels[0], np.int64)\n",
    "        break"
   ]
  },
  {
   "cell_type": "markdown",
   "metadata": {
    "id": "JacMmD5Kq6j8"
   },
   "source": [
    "🚧 **Question** 🚧\n",
    "\n",
    "Write a concise summary on what you learned with this lab.\n",
    "\n",
    "**Answer**\n",
    "\n",
    "Learned about the collate function and how useful it is. \n",
    "Practiced pytorch and numpy skills"
   ]
  }
 ],
 "metadata": {
  "colab": {
   "provenance": []
  },
  "kernelspec": {
   "display_name": "llm-pT0N9PZp-py3.11",
   "language": "python",
   "name": "python3"
  },
  "language_info": {
   "codemirror_mode": {
    "name": "ipython",
    "version": 3
   },
   "file_extension": ".py",
   "mimetype": "text/x-python",
   "name": "python",
   "nbconvert_exporter": "python",
   "pygments_lexer": "ipython3",
   "version": "3.11.2"
  },
  "toc": {
   "base_numbering": 1,
   "nav_menu": {},
   "number_sections": true,
   "sideBar": true,
   "skip_h1_title": false,
   "title_cell": "Table of Contents",
   "title_sidebar": "Contents",
   "toc_cell": false,
   "toc_position": {},
   "toc_section_display": true,
   "toc_window_display": false
  }
 },
 "nbformat": 4,
 "nbformat_minor": 1
}
