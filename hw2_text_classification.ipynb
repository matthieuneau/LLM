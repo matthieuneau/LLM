{
 "cells": [
  {
   "cell_type": "code",
   "execution_count": 83,
   "metadata": {},
   "outputs": [],
   "source": [
    "from torch import nn\n",
    "import torch\n",
    "import yaml\n",
    "from torch.utils.data import DataLoader\n",
    "from transformers import BertTokenizer\n",
    "from datasets import load_dataset\n",
    "import math\n",
    "import torch.nn.functional as F\n",
    "from tqdm.notebook import tqdm"
   ]
  },
  {
   "cell_type": "code",
   "execution_count": 84,
   "metadata": {},
   "outputs": [],
   "source": [
    "with open(\"config.yaml\", \"r\") as file:\n",
    "    config = yaml.safe_load(file)"
   ]
  },
  {
   "cell_type": "code",
   "execution_count": 85,
   "metadata": {},
   "outputs": [],
   "source": [
    "tokenizer = BertTokenizer.from_pretrained(\"bert-base-uncased\", do_lower_case=True)\n",
    "dataset = load_dataset(\"scikit-learn/imdb\", split=\"train\")"
   ]
  },
  {
   "cell_type": "code",
   "execution_count": 86,
   "metadata": {},
   "outputs": [
    {
     "name": "stdout",
     "output_type": "stream",
     "text": [
      "dict_keys(['review', 'sentiment', 'review_ids', 'label'])\n",
      "[1037, 6919, 2210, 2537, 1012, 1026, 7987, 1013, 1028, 1026, 7987, 1013, 1028, 1996, 7467, 6028, 2003, 2200, 14477, 4757, 24270, 1011, 2200, 2214, 1011, 2051, 1011, 4035, 4827, 1998, 3957, 1037, 16334, 1010, 1998, 2823, 17964, 2075, 1010, 3168, 1997, 15650, 2000, 1996, 2972, 3538, 1012, 1026, 7987, 1013, 1028, 1026, 7987, 1013, 1028, 1996, 5889, 2024, 5186, 2092, 4217, 1011, 2745, 20682, 2025, 2069, 1000, 2038, 2288, 2035, 1996, 11508, 2072, 1000, 2021, 2002, 2038, 2035, 1996, 5755, 2091, 6986, 2205, 999, 2017, 2064, 5621, 2156, 1996, 25180, 3238, 9260, 8546, 2011, 1996, 7604, 2000, 3766, 1005, 9708, 10445, 1010, 2025, 2069, 2003, 2009, 2092, 4276, 1996, 3666, 2021, 2009, 2003, 1037, 27547, 2135, 2517, 1998, 2864, 3538, 1012, 1037, 3040, 3993, 2537, 2055, 2028, 1997, 1996, 2307, 3040, 1005, 1055, 1997, 4038, 1998, 2010, 2166, 1012, 1026, 7987, 1013, 1028, 1026, 7987, 1013, 1028, 1996, 15650, 2428, 3310, 2188, 2007, 1996, 2210, 2477, 1024, 1996, 5913, 1997, 1996, 3457, 2029, 1010, 2738, 2084, 2224, 1996, 3151, 1005, 3959, 1005, 5461, 3464, 5024, 2059, 17144, 1012, 2009, 3248, 2006, 2256, 3716, 1998, 2256, 9456, 1010, 3391, 2007, 1996, 5019, 7175, 25161, 1998, 2534, 2072, 4381, 1998, 1996, 4520, 1006, 3391, 1997, 2037, 4257, 2007, 2534, 2072, 4381, 1005, 1055, 19016, 25545, 5844, 2296, 3302, 1007, 2024, 16668, 2092, 2589, 1012]\n"
     ]
    }
   ],
   "source": [
    "def preprocessing_fn(x, tokenizer):\n",
    "    x[\"review_ids\"] = tokenizer(\n",
    "        x[\"review\"],\n",
    "        add_special_tokens=False,\n",
    "        truncation=True,\n",
    "        max_length=256,\n",
    "        padding=False,\n",
    "        return_attention_mask=False,\n",
    "    )[\"input_ids\"]\n",
    "    x[\"label\"] = 0 if x[\"sentiment\"] == \"negative\" else 1\n",
    "    return x\n",
    "\n",
    "\n",
    "print(preprocessing_fn(dataset[1], tokenizer).keys())\n",
    "print(preprocessing_fn(dataset[1], tokenizer)[\"review_ids\"])"
   ]
  },
  {
   "cell_type": "code",
   "execution_count": 87,
   "metadata": {},
   "outputs": [],
   "source": [
    "# If required, n_samples can be set to 2000 to speed up training\n",
    "n_samples = 5000  # the number of training example\n",
    "\n",
    "# We first shuffle the data !\n",
    "dataset = dataset.shuffle(seed=42)\n",
    "\n",
    "# Select 5000 samples\n",
    "dataset = dataset.select(range(n_samples))\n",
    "\n",
    "# Tokenize the dataset\n",
    "dataset = dataset.map(lambda x: preprocessing_fn(x, tokenizer))\n",
    "\n",
    "# Remove useless columns\n",
    "dataset = dataset.remove_columns([\"review\", \"sentiment\"])\n",
    "\n",
    "# Split the train and validation\n",
    "train_test_split = dataset.train_test_split(test_size=0.2)\n",
    "document_train_set = train_test_split[\"train\"]\n",
    "document_test_set = train_test_split[\"test\"]"
   ]
  },
  {
   "cell_type": "markdown",
   "metadata": {},
   "source": [
    "## Classification task"
   ]
  },
  {
   "cell_type": "code",
   "execution_count": 88,
   "metadata": {},
   "outputs": [],
   "source": [
    "class Word2Vec(nn.Module):\n",
    "    def __init__(self, embedding_dim: int, vocab_size: int):\n",
    "        super(Word2Vec, self).__init__()\n",
    "        self.in_embedding = nn.Embedding(vocab_size, embedding_dim)\n",
    "        self.out_embedding = nn.Embedding(vocab_size, embedding_dim)\n",
    "\n",
    "    def predict(self, context_indices):\n",
    "        \"\"\"\n",
    "        Predicts the most likely word given the context words.\n",
    "\n",
    "        Args:\n",
    "            context_indices (List[int]): Indices of the context words.\n",
    "\n",
    "        Returns:\n",
    "            int: Index of the predicted word.\n",
    "        \"\"\"\n",
    "        # Get embeddings for each word in the context\n",
    "        context_embeddings = self.in_embedding(torch.tensor(context_indices))\n",
    "\n",
    "        # Aggregate the context embeddings (e.g., by averaging)\n",
    "        context_vector = context_embeddings.mean(dim=0)\n",
    "\n",
    "        # Compute the similarity scores between the context vector and all word embeddings\n",
    "        similarity_scores = torch.matmul(self.out_embedding.weight, context_vector)\n",
    "\n",
    "        # Find the index of the word with the highest similarity score\n",
    "        predicted_word_index = similarity_scores.argmax().item()\n",
    "        return predicted_word_index"
   ]
  },
  {
   "cell_type": "markdown",
   "metadata": {},
   "source": [
    "### Question 1"
   ]
  },
  {
   "cell_type": "code",
   "execution_count": 89,
   "metadata": {},
   "outputs": [],
   "source": [
    "def load_model(model, path):\n",
    "    model.load_state_dict(torch.load(path))\n",
    "    return model"
   ]
  },
  {
   "cell_type": "code",
   "execution_count": 90,
   "metadata": {},
   "outputs": [
    {
     "name": "stderr",
     "output_type": "stream",
     "text": [
      "/var/folders/_y/2rw4wkns73v1mc9wlr3l0k_h0000gn/T/ipykernel_71670/2437168639.py:2: FutureWarning: You are using `torch.load` with `weights_only=False` (the current default value), which uses the default pickle module implicitly. It is possible to construct malicious pickle data which will execute arbitrary code during unpickling (See https://github.com/pytorch/pytorch/blob/main/SECURITY.md#untrusted-models for more details). In a future release, the default value for `weights_only` will be flipped to `True`. This limits the functions that could be executed during unpickling. Arbitrary objects will no longer be allowed to be loaded via this mode unless they are explicitly allowlisted by the user via `torch.serialization.add_safe_globals`. We recommend you start setting `weights_only=True` for any use case where you don't have full control of the loaded file. Please open an issue on GitHub for any issues related to this experimental feature.\n",
      "  model.load_state_dict(torch.load(path))\n"
     ]
    },
    {
     "data": {
      "text/plain": [
       "Word2Vec(\n",
       "  (in_embedding): Embedding(30522, 128)\n",
       "  (out_embedding): Embedding(30522, 128)\n",
       ")"
      ]
     },
     "execution_count": 90,
     "metadata": {},
     "output_type": "execute_result"
    }
   ],
   "source": [
    "model = Word2Vec(embedding_dim=config[\"embedding_dim\"], vocab_size=tokenizer.vocab_size)\n",
    "load_model(model, \"model_dim-128-radius-6-ratio-4-batch-256-epoch-15.ckpt\")"
   ]
  },
  {
   "cell_type": "code",
   "execution_count": 91,
   "metadata": {},
   "outputs": [],
   "source": [
    "class Conv1dClassifier(nn.Module):\n",
    "    \"\"\"A text classifier:\n",
    "    - input = minibatch\n",
    "    - output = probability associated to a binary classification task\n",
    "    - vocab_size: the number of words in the vocabulary we want to embed\n",
    "    - embedding_dim: size of the word vectors\n",
    "    \"\"\"\n",
    "\n",
    "    def __init__(self, vocab_size, embedding_dim, feature_size=100, kernel_size=3):\n",
    "        super().__init__()\n",
    "        self.embedding_dim = embedding_dim\n",
    "        self.feature_size = feature_size\n",
    "        self.embeddings = nn.Embedding(vocab_size, embedding_dim)\n",
    "        # The number of padding symbols depends on the kernel size.\n",
    "        # It is important to ensure that we have always a sequence\n",
    "        # as long as the kernel size.\n",
    "        # ex: if ks=3, we add 1 padding before and one after.\n",
    "        # The sentence \"Great\" becomes \"<pad> Great <pad>\"\n",
    "        self.conv = nn.Conv1d(\n",
    "            embedding_dim,\n",
    "            feature_size,\n",
    "            kernel_size,\n",
    "            padding=math.floor(kernel_size / 2),\n",
    "        )\n",
    "        # The parameter for AdaptiveMaxPool1d is the \"output size\"\n",
    "        # or the number of output values for a dimension.\n",
    "        # Here it is one: we want to get the max for every components.\n",
    "        self.pool = nn.AdaptiveMaxPool1d(1)\n",
    "        self.dropout = nn.Dropout(0.3)\n",
    "        self.linear = nn.Linear(feature_size, 1)\n",
    "        self.out_activation = nn.Sigmoid()\n",
    "\n",
    "    def forward(self, input_ids):\n",
    "        # In pytorch, convolution expects (B,d,L)\n",
    "        # B: the batch dimension\n",
    "        # d: the embedding dimension\n",
    "        # L: the length of the sequence\n",
    "        hidden_states = self.embeddings(input_ids).permute(0, 2, 1)\n",
    "        hidden_states = F.relu(self.conv(hidden_states))\n",
    "        hidden_states = self.pool(hidden_states)  # --> (B,d,1)\n",
    "        # Before the linear, do something with dims the dimension\n",
    "        # Because Linear works on the final dim\n",
    "        # (B,d,1) -> (B,d)\n",
    "        hidden_states = hidden_states.squeeze(dim=2)\n",
    "        hidden_states = self.dropout(hidden_states)\n",
    "        logits = self.linear(hidden_states)\n",
    "        return self.out_activation(logits)\n",
    "\n",
    "    def train(self, n_epochs: int = 10):\n",
    "        criterion = nn.BCELoss()\n",
    "        optimizer = torch.optim.Adam(self.parameters(), lr=0.001)\n",
    "        for epoch in tqdm(range(n_epochs), desc=\"Epochs\"):\n",
    "            total_loss = 0\n",
    "            for i, batch in enumerate(\n",
    "                tqdm(classification_train_dataloader, desc=\"Batches\", leave=False)\n",
    "            ):\n",
    "                optimizer.zero_grad()\n",
    "                output = self(batch[\"review_ids\"])\n",
    "                loss = criterion(output, batch[\"label\"].float())\n",
    "                loss.backward()\n",
    "                optimizer.step()\n",
    "                total_loss += loss.item()\n",
    "            print(f\"Epoch {epoch} - Loss: {total_loss/n_train}\")\n",
    "\n",
    "    def test(self):\n",
    "        correct_predictions = 0\n",
    "        with torch.no_grad():\n",
    "            for i, batch in enumerate(\n",
    "                tqdm(classification_test_dataloader, desc=\"Processing batches\")\n",
    "            ):\n",
    "                output = self(batch[\"review_ids\"])\n",
    "                predicted_labels = (output > 0.5).int()\n",
    "                correct_predictions += (predicted_labels == batch[\"label\"]).sum().item()\n",
    "        accuracy = correct_predictions / n_test * 100\n",
    "        accuracy = round(accuracy, 4)\n",
    "        print(f\"Accuracy: {accuracy}%\")\n",
    "        return accuracy"
   ]
  },
  {
   "cell_type": "code",
   "execution_count": 92,
   "metadata": {},
   "outputs": [],
   "source": [
    "class DataCollator:\n",
    "    def __init__(self, tokenizer):\n",
    "        self.tokenizer = tokenizer\n",
    "\n",
    "    def __call__(self, batch):\n",
    "        # `batch` is a list of dictionary with keys \"review_ids\" and \"label\".\n",
    "        features = [{\"input_ids\": x[\"review_ids\"]} for x in batch]\n",
    "        features = self.tokenizer.pad(\n",
    "            features, padding=\"max_length\", max_length=256, return_tensors=\"pt\"\n",
    "        )\n",
    "        label = torch.tensor([x[\"label\"] for x in batch])[:, None]\n",
    "        return {\"review_ids\": features[\"input_ids\"], \"label\": label}"
   ]
  },
  {
   "cell_type": "code",
   "execution_count": 93,
   "metadata": {},
   "outputs": [],
   "source": [
    "data_collator = DataCollator(tokenizer)"
   ]
  },
  {
   "cell_type": "code",
   "execution_count": 94,
   "metadata": {},
   "outputs": [],
   "source": [
    "batch_size = 32\n",
    "\n",
    "classification_train_dataloader = DataLoader(\n",
    "    document_train_set, batch_size=batch_size, collate_fn=data_collator\n",
    ")\n",
    "classification_test_dataloader = DataLoader(\n",
    "    document_test_set, batch_size=batch_size, collate_fn=data_collator\n",
    ")\n",
    "\n",
    "n_test = len(document_test_set)\n",
    "n_train = len(document_train_set)"
   ]
  },
  {
   "cell_type": "code",
   "execution_count": 95,
   "metadata": {},
   "outputs": [
    {
     "name": "stdout",
     "output_type": "stream",
     "text": [
      "batch is a dictionnary with keys: dict_keys(['review_ids', 'label'])\n",
      "Size of different elements: torch.Size([32, 256]) torch.Size([32, 1])\n"
     ]
    }
   ],
   "source": [
    "batch = next(iter(classification_train_dataloader))\n",
    "print(\"batch is a dictionnary with keys:\", batch.keys())\n",
    "print(\"Size of different elements:\", batch[\"review_ids\"].shape, batch[\"label\"].shape)"
   ]
  },
  {
   "cell_type": "markdown",
   "metadata": {},
   "source": [
    "Test the classifier on a random sequence."
   ]
  },
  {
   "cell_type": "code",
   "execution_count": 96,
   "metadata": {},
   "outputs": [
    {
     "name": "stdout",
     "output_type": "stream",
     "text": [
      "torch.Size([4, 1])\n",
      "tensor([[0.4438],\n",
      "        [0.5006],\n",
      "        [0.4052],\n",
      "        [0.6701]], grad_fn=<SigmoidBackward0>)\n"
     ]
    }
   ],
   "source": [
    "VOCSIZE = tokenizer.vocab_size\n",
    "random_inputs = torch.randint(0, VOCSIZE, (4, 100))\n",
    "# Test the class: is everything in place:\n",
    "# A first classifier is built like :\n",
    "model = Conv1dClassifier(\n",
    "    vocab_size=VOCSIZE, embedding_dim=25\n",
    ")  # The parameters of the classifier are randomly initialize, but we\n",
    "# can use it on a sequence :\n",
    "out = model(random_inputs)\n",
    "print(out.shape)  # the output has 2 dimensions\n",
    "print(out)"
   ]
  },
  {
   "cell_type": "markdown",
   "metadata": {},
   "source": [
    "### Question 2"
   ]
  },
  {
   "cell_type": "markdown",
   "metadata": {},
   "source": [
    "For the pretrained embeddings, we use the in_embeddings matrix, which makes more sense as it is the one used to capture a word when it is part of a context. This is better for semantic classification."
   ]
  },
  {
   "cell_type": "code",
   "execution_count": 97,
   "metadata": {},
   "outputs": [
    {
     "name": "stderr",
     "output_type": "stream",
     "text": [
      "/var/folders/_y/2rw4wkns73v1mc9wlr3l0k_h0000gn/T/ipykernel_71670/2437168639.py:2: FutureWarning: You are using `torch.load` with `weights_only=False` (the current default value), which uses the default pickle module implicitly. It is possible to construct malicious pickle data which will execute arbitrary code during unpickling (See https://github.com/pytorch/pytorch/blob/main/SECURITY.md#untrusted-models for more details). In a future release, the default value for `weights_only` will be flipped to `True`. This limits the functions that could be executed during unpickling. Arbitrary objects will no longer be allowed to be loaded via this mode unless they are explicitly allowlisted by the user via `torch.serialization.add_safe_globals`. We recommend you start setting `weights_only=True` for any use case where you don't have full control of the loaded file. Please open an issue on GitHub for any issues related to this experimental feature.\n",
      "  model.load_state_dict(torch.load(path))\n"
     ]
    },
    {
     "data": {
      "application/vnd.jupyter.widget-view+json": {
       "model_id": "bc825bd38259443480195519913624d8",
       "version_major": 2,
       "version_minor": 0
      },
      "text/plain": [
       "Epochs:   0%|          | 0/15 [00:00<?, ?it/s]"
      ]
     },
     "metadata": {},
     "output_type": "display_data"
    },
    {
     "data": {
      "application/vnd.jupyter.widget-view+json": {
       "model_id": "3fab932aec2d4255856486e19816a0b2",
       "version_major": 2,
       "version_minor": 0
      },
      "text/plain": [
       "Batches:   0%|          | 0/125 [00:00<?, ?it/s]"
      ]
     },
     "metadata": {},
     "output_type": "display_data"
    },
    {
     "ename": "NameError",
     "evalue": "name 'train_dataloader' is not defined",
     "output_type": "error",
     "traceback": [
      "\u001b[0;31m---------------------------------------------------------------------------\u001b[0m",
      "\u001b[0;31mNameError\u001b[0m                                 Traceback (most recent call last)",
      "Cell \u001b[0;32mIn[97], line 9\u001b[0m\n\u001b[1;32m      2\u001b[0m pretrained_word2vec \u001b[38;5;241m=\u001b[39m load_model(\n\u001b[1;32m      3\u001b[0m     Word2Vec(embedding_dim\u001b[38;5;241m=\u001b[39mconfig[\u001b[38;5;124m\"\u001b[39m\u001b[38;5;124membedding_dim\u001b[39m\u001b[38;5;124m\"\u001b[39m], vocab_size\u001b[38;5;241m=\u001b[39mtokenizer\u001b[38;5;241m.\u001b[39mvocab_size),\n\u001b[1;32m      4\u001b[0m     \u001b[38;5;124m\"\u001b[39m\u001b[38;5;124mmodel_dim-128-radius-6-ratio-4-batch-256-epoch-15.ckpt\u001b[39m\u001b[38;5;124m\"\u001b[39m,\n\u001b[1;32m      5\u001b[0m )\n\u001b[1;32m      6\u001b[0m pretrained_model\u001b[38;5;241m.\u001b[39membeddings \u001b[38;5;241m=\u001b[39m nn\u001b[38;5;241m.\u001b[39mEmbedding\u001b[38;5;241m.\u001b[39mfrom_pretrained(\n\u001b[1;32m      7\u001b[0m     pretrained_word2vec\u001b[38;5;241m.\u001b[39min_embedding\u001b[38;5;241m.\u001b[39mweight\n\u001b[1;32m      8\u001b[0m )\n\u001b[0;32m----> 9\u001b[0m \u001b[43mpretrained_model\u001b[49m\u001b[38;5;241;43m.\u001b[39;49m\u001b[43mtrain\u001b[49m\u001b[43m(\u001b[49m\u001b[43mn_epochs\u001b[49m\u001b[38;5;241;43m=\u001b[39;49m\u001b[38;5;241;43m15\u001b[39;49m\u001b[43m)\u001b[49m\n",
      "Cell \u001b[0;32mIn[91], line 63\u001b[0m, in \u001b[0;36mConv1dClassifier.train\u001b[0;34m(self, n_epochs)\u001b[0m\n\u001b[1;32m     61\u001b[0m     optimizer\u001b[38;5;241m.\u001b[39mstep()\n\u001b[1;32m     62\u001b[0m     total_loss \u001b[38;5;241m+\u001b[39m\u001b[38;5;241m=\u001b[39m loss\u001b[38;5;241m.\u001b[39mitem()\n\u001b[0;32m---> 63\u001b[0m \u001b[38;5;28mprint\u001b[39m(\u001b[38;5;124mf\u001b[39m\u001b[38;5;124m\"\u001b[39m\u001b[38;5;124mEpoch \u001b[39m\u001b[38;5;132;01m{\u001b[39;00mepoch\u001b[38;5;132;01m}\u001b[39;00m\u001b[38;5;124m - Loss: \u001b[39m\u001b[38;5;132;01m{\u001b[39;00mtotal_loss\u001b[38;5;241m/\u001b[39m\u001b[38;5;28mlen\u001b[39m(\u001b[43mtrain_dataloader\u001b[49m)\u001b[38;5;132;01m}\u001b[39;00m\u001b[38;5;124m\"\u001b[39m)\n",
      "\u001b[0;31mNameError\u001b[0m: name 'train_dataloader' is not defined"
     ]
    }
   ],
   "source": [
    "pretrained_model = Conv1dClassifier(tokenizer.vocab_size, config[\"embedding_dim\"])\n",
    "pretrained_word2vec = load_model(\n",
    "    Word2Vec(embedding_dim=config[\"embedding_dim\"], vocab_size=tokenizer.vocab_size),\n",
    "    \"model_dim-128-radius-6-ratio-4-batch-256-epoch-15.ckpt\",\n",
    ")\n",
    "pretrained_model.embeddings = nn.Embedding.from_pretrained(\n",
    "    pretrained_word2vec.in_embedding.weight\n",
    ")\n",
    "pretrained_model.train(n_epochs=15)"
   ]
  },
  {
   "cell_type": "code",
   "execution_count": null,
   "metadata": {},
   "outputs": [
    {
     "data": {
      "application/vnd.jupyter.widget-view+json": {
       "model_id": "77983e70c84a41f7853f22384eb94c19",
       "version_major": 2,
       "version_minor": 0
      },
      "text/plain": [
       "Processing batches:   0%|          | 0/32 [00:00<?, ?it/s]"
      ]
     },
     "metadata": {},
     "output_type": "display_data"
    },
    {
     "ename": "NameError",
     "evalue": "name 'classification_test_dataset' is not defined",
     "output_type": "error",
     "traceback": [
      "\u001b[0;31m---------------------------------------------------------------------------\u001b[0m\n",
      "\u001b[0;31mNameError\u001b[0m                                 Traceback (most recent call last)\n",
      "Cell \u001b[0;32mIn[137], line 1\u001b[0m\n",
      "\u001b[0;32m----> 1\u001b[0m \u001b[43mpretrained_model\u001b[49m\u001b[38;5;241;43m.\u001b[39;49m\u001b[43mtest\u001b[49m\u001b[43m(\u001b[49m\u001b[43m)\u001b[49m\n",
      "\n",
      "Cell \u001b[0;32mIn[130], line 74\u001b[0m, in \u001b[0;36mConv1dClassifier.test\u001b[0;34m(self)\u001b[0m\n",
      "\u001b[1;32m     72\u001b[0m         predicted_labels \u001b[38;5;241m=\u001b[39m (output \u001b[38;5;241m>\u001b[39m \u001b[38;5;241m0.5\u001b[39m)\u001b[38;5;241m.\u001b[39mint()\n",
      "\u001b[1;32m     73\u001b[0m         correct_predictions \u001b[38;5;241m+\u001b[39m\u001b[38;5;241m=\u001b[39m (predicted_labels \u001b[38;5;241m==\u001b[39m batch[\u001b[38;5;124m\"\u001b[39m\u001b[38;5;124mlabel\u001b[39m\u001b[38;5;124m\"\u001b[39m])\u001b[38;5;241m.\u001b[39msum()\u001b[38;5;241m.\u001b[39mitem()\n",
      "\u001b[0;32m---> 74\u001b[0m accuracy \u001b[38;5;241m=\u001b[39m correct_predictions \u001b[38;5;241m/\u001b[39m \u001b[38;5;28mlen\u001b[39m(\u001b[43mclassification_test_dataset\u001b[49m) \u001b[38;5;241m*\u001b[39m \u001b[38;5;241m100\u001b[39m\n",
      "\u001b[1;32m     75\u001b[0m accuracy \u001b[38;5;241m=\u001b[39m \u001b[38;5;28mround\u001b[39m(accuracy, \u001b[38;5;241m4\u001b[39m)\n",
      "\u001b[1;32m     76\u001b[0m \u001b[38;5;28mprint\u001b[39m(\u001b[38;5;124mf\u001b[39m\u001b[38;5;124m\"\u001b[39m\u001b[38;5;124mAccuracy: \u001b[39m\u001b[38;5;132;01m{\u001b[39;00maccuracy\u001b[38;5;132;01m}\u001b[39;00m\u001b[38;5;124m%\u001b[39m\u001b[38;5;124m\"\u001b[39m)\n",
      "\n",
      "\u001b[0;31mNameError\u001b[0m: name 'classification_test_dataset' is not defined"
     ]
    }
   ],
   "source": [
    "pretrained_model.test()"
   ]
  },
  {
   "cell_type": "markdown",
   "metadata": {},
   "source": [
    "### Question 3"
   ]
  },
  {
   "cell_type": "code",
   "execution_count": null,
   "metadata": {},
   "outputs": [
    {
     "data": {
      "application/vnd.jupyter.widget-view+json": {
       "model_id": "9218484f678145ea9c596f2cc82734db",
       "version_major": 2,
       "version_minor": 0
      },
      "text/plain": [
       "Epochs:   0%|          | 0/10 [00:00<?, ?it/s]"
      ]
     },
     "metadata": {},
     "output_type": "display_data"
    },
    {
     "data": {
      "application/vnd.jupyter.widget-view+json": {
       "model_id": "e41f73791ebe438295de97fa384b65de",
       "version_major": 2,
       "version_minor": 0
      },
      "text/plain": [
       "Batches:   0%|          | 0/125 [00:00<?, ?it/s]"
      ]
     },
     "metadata": {},
     "output_type": "display_data"
    },
    {
     "name": "stdout",
     "output_type": "stream",
     "text": [
      "Epoch 0 - Loss: 0.026903515173314855\n"
     ]
    },
    {
     "data": {
      "application/vnd.jupyter.widget-view+json": {
       "model_id": "bb14bf90f8974a829aa51f9a10052371",
       "version_major": 2,
       "version_minor": 0
      },
      "text/plain": [
       "Batches:   0%|          | 0/125 [00:00<?, ?it/s]"
      ]
     },
     "metadata": {},
     "output_type": "display_data"
    },
    {
     "name": "stdout",
     "output_type": "stream",
     "text": [
      "Epoch 1 - Loss: 0.02231757625479463\n"
     ]
    },
    {
     "data": {
      "application/vnd.jupyter.widget-view+json": {
       "model_id": "713a72d6c0f34a52941a48b55f32dbb9",
       "version_major": 2,
       "version_minor": 0
      },
      "text/plain": [
       "Batches:   0%|          | 0/125 [00:00<?, ?it/s]"
      ]
     },
     "metadata": {},
     "output_type": "display_data"
    }
   ],
   "source": [
    "classifier = Conv1dClassifier(\n",
    "    vocab_size=tokenizer.vocab_size, embedding_dim=config[\"embedding_dim\"]\n",
    ")\n",
    "classifier.train(n_epochs=15)"
   ]
  },
  {
   "cell_type": "code",
   "execution_count": null,
   "metadata": {},
   "outputs": [],
   "source": [
    "classifier.test()"
   ]
  }
 ],
 "metadata": {
  "kernelspec": {
   "display_name": "llm-ljK2SZ_F-py3.12",
   "language": "python",
   "name": "python3"
  },
  "language_info": {
   "codemirror_mode": {
    "name": "ipython",
    "version": 3
   },
   "file_extension": ".py",
   "mimetype": "text/x-python",
   "name": "python",
   "nbconvert_exporter": "python",
   "pygments_lexer": "ipython3",
   "version": "3.12.7"
  }
 },
 "nbformat": 4,
 "nbformat_minor": 2
}
