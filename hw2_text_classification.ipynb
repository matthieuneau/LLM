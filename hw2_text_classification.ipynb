{
 "cells": [
  {
   "cell_type": "code",
   "execution_count": 16,
   "metadata": {},
   "outputs": [],
   "source": [
    "from torch import nn\n",
    "import torch\n",
    "import yaml\n",
    "from torch.utils.data import DataLoader\n",
    "from transformers import BertTokenizer\n",
    "from datasets import load_dataset\n",
    "import math\n",
    "import torch.nn.functional as F\n",
    "from tqdm.notebook import tqdm"
   ]
  },
  {
   "cell_type": "code",
   "execution_count": 17,
   "metadata": {},
   "outputs": [],
   "source": [
    "BATCH_SIZE = 256\n",
    "BEST_ACCURACY = 4.4281\n",
    "EMBEDDING_DIM = 128\n",
    "NUM_EPOCHS = 15\n",
    "RADIUS = 6\n",
    "RATIO = 4"
   ]
  },
  {
   "cell_type": "code",
   "execution_count": 18,
   "metadata": {},
   "outputs": [],
   "source": [
    "tokenizer = BertTokenizer.from_pretrained(\"bert-base-uncased\", do_lower_case=True)\n",
    "dataset = load_dataset(\"scikit-learn/imdb\", split=\"train\")"
   ]
  },
  {
   "cell_type": "code",
   "execution_count": 19,
   "metadata": {},
   "outputs": [
    {
     "name": "stdout",
     "output_type": "stream",
     "text": [
      "dict_keys(['review', 'sentiment', 'review_ids', 'label'])\n",
      "[1037, 6919, 2210, 2537, 1012, 1026, 7987, 1013, 1028, 1026, 7987, 1013, 1028, 1996, 7467, 6028, 2003, 2200, 14477, 4757, 24270, 1011, 2200, 2214, 1011, 2051, 1011, 4035, 4827, 1998, 3957, 1037, 16334, 1010, 1998, 2823, 17964, 2075, 1010, 3168, 1997, 15650, 2000, 1996, 2972, 3538, 1012, 1026, 7987, 1013, 1028, 1026, 7987, 1013, 1028, 1996, 5889, 2024, 5186, 2092, 4217, 1011, 2745, 20682, 2025, 2069, 1000, 2038, 2288, 2035, 1996, 11508, 2072, 1000, 2021, 2002, 2038, 2035, 1996, 5755, 2091, 6986, 2205, 999, 2017, 2064, 5621, 2156, 1996, 25180, 3238, 9260, 8546, 2011, 1996, 7604, 2000, 3766, 1005, 9708, 10445, 1010, 2025, 2069, 2003, 2009, 2092, 4276, 1996, 3666, 2021, 2009, 2003, 1037, 27547, 2135, 2517, 1998, 2864, 3538, 1012, 1037, 3040, 3993, 2537, 2055, 2028, 1997, 1996, 2307, 3040, 1005, 1055, 1997, 4038, 1998, 2010, 2166, 1012, 1026, 7987, 1013, 1028, 1026, 7987, 1013, 1028, 1996, 15650, 2428, 3310, 2188, 2007, 1996, 2210, 2477, 1024, 1996, 5913, 1997, 1996, 3457, 2029, 1010, 2738, 2084, 2224, 1996, 3151, 1005, 3959, 1005, 5461, 3464, 5024, 2059, 17144, 1012, 2009, 3248, 2006, 2256, 3716, 1998, 2256, 9456, 1010, 3391, 2007, 1996, 5019, 7175, 25161, 1998, 2534, 2072, 4381, 1998, 1996, 4520, 1006, 3391, 1997, 2037, 4257, 2007, 2534, 2072, 4381, 1005, 1055, 19016, 25545, 5844, 2296, 3302, 1007, 2024, 16668, 2092, 2589, 1012]\n"
     ]
    }
   ],
   "source": [
    "def preprocessing_fn(x, tokenizer):\n",
    "    x[\"review_ids\"] = tokenizer(\n",
    "        x[\"review\"],\n",
    "        add_special_tokens=False,\n",
    "        truncation=True,\n",
    "        max_length=256,\n",
    "        padding=False,\n",
    "        return_attention_mask=False,\n",
    "    )[\"input_ids\"]\n",
    "    x[\"label\"] = 0 if x[\"sentiment\"] == \"negative\" else 1\n",
    "    return x\n",
    "\n",
    "\n",
    "print(preprocessing_fn(dataset[1], tokenizer).keys())\n",
    "print(preprocessing_fn(dataset[1], tokenizer)[\"review_ids\"])"
   ]
  },
  {
   "cell_type": "code",
   "execution_count": 20,
   "metadata": {},
   "outputs": [
    {
     "data": {
      "application/vnd.jupyter.widget-view+json": {
       "model_id": "aded3fa5a90743b6bf6f3a9ef8c38dae",
       "version_major": 2,
       "version_minor": 0
      },
      "text/plain": [
       "Map:   0%|          | 0/100 [00:00<?, ? examples/s]"
      ]
     },
     "metadata": {},
     "output_type": "display_data"
    }
   ],
   "source": [
    "# If required, n_samples can be set to 2000 to speed up training\n",
    "n_samples = 5000  # the number of training example\n",
    "\n",
    "# We first shuffle the data !\n",
    "dataset = dataset.shuffle(seed=42)\n",
    "\n",
    "# Select 5000 samples\n",
    "dataset = dataset.select(range(n_samples))\n",
    "\n",
    "# Tokenize the dataset\n",
    "dataset = dataset.map(lambda x: preprocessing_fn(x, tokenizer))\n",
    "\n",
    "# Remove useless columns\n",
    "dataset = dataset.remove_columns([\"review\", \"sentiment\"])\n",
    "\n",
    "# Split the train and validation\n",
    "train_test_split = dataset.train_test_split(test_size=0.2)\n",
    "document_train_set = train_test_split[\"train\"]\n",
    "document_test_set = train_test_split[\"test\"]"
   ]
  },
  {
   "cell_type": "markdown",
   "metadata": {},
   "source": [
    "## Classification task"
   ]
  },
  {
   "cell_type": "code",
   "execution_count": 21,
   "metadata": {},
   "outputs": [],
   "source": [
    "class Word2Vec(nn.Module):\n",
    "    def __init__(self, embedding_dim: int, vocab_size: int):\n",
    "        super(Word2Vec, self).__init__()\n",
    "        self.in_embedding = nn.Embedding(vocab_size, embedding_dim)\n",
    "        self.out_embedding = nn.Embedding(vocab_size, embedding_dim)\n",
    "\n",
    "    def predict(self, context_indices):\n",
    "        \"\"\"\n",
    "        Predicts the most likely word given the context words.\n",
    "\n",
    "        Args:\n",
    "            context_indices (List[int]): Indices of the context words.\n",
    "\n",
    "        Returns:\n",
    "            int: Index of the predicted word.\n",
    "        \"\"\"\n",
    "        # Get embeddings for each word in the context\n",
    "        context_embeddings = self.in_embedding(torch.tensor(context_indices))\n",
    "\n",
    "        # Aggregate the context embeddings (e.g., by averaging)\n",
    "        context_vector = context_embeddings.mean(dim=0)\n",
    "\n",
    "        # Compute the similarity scores between the context vector and all word embeddings\n",
    "        similarity_scores = torch.matmul(self.out_embedding.weight, context_vector)\n",
    "\n",
    "        # Find the index of the word with the highest similarity score\n",
    "        predicted_word_index = similarity_scores.argmax().item()\n",
    "        return predicted_word_index"
   ]
  },
  {
   "cell_type": "markdown",
   "metadata": {},
   "source": [
    "### Question 1"
   ]
  },
  {
   "cell_type": "code",
   "execution_count": 22,
   "metadata": {},
   "outputs": [],
   "source": [
    "def load_model(model, path):\n",
    "    model.load_state_dict(torch.load(path))\n",
    "    return model"
   ]
  },
  {
   "cell_type": "code",
   "execution_count": 23,
   "metadata": {},
   "outputs": [
    {
     "name": "stderr",
     "output_type": "stream",
     "text": [
      "/var/folders/_y/2rw4wkns73v1mc9wlr3l0k_h0000gn/T/ipykernel_24068/2437168639.py:2: FutureWarning: You are using `torch.load` with `weights_only=False` (the current default value), which uses the default pickle module implicitly. It is possible to construct malicious pickle data which will execute arbitrary code during unpickling (See https://github.com/pytorch/pytorch/blob/main/SECURITY.md#untrusted-models for more details). In a future release, the default value for `weights_only` will be flipped to `True`. This limits the functions that could be executed during unpickling. Arbitrary objects will no longer be allowed to be loaded via this mode unless they are explicitly allowlisted by the user via `torch.serialization.add_safe_globals`. We recommend you start setting `weights_only=True` for any use case where you don't have full control of the loaded file. Please open an issue on GitHub for any issues related to this experimental feature.\n",
      "  model.load_state_dict(torch.load(path))\n"
     ]
    },
    {
     "data": {
      "text/plain": [
       "Word2Vec(\n",
       "  (in_embedding): Embedding(30522, 128)\n",
       "  (out_embedding): Embedding(30522, 128)\n",
       ")"
      ]
     },
     "execution_count": 23,
     "metadata": {},
     "output_type": "execute_result"
    }
   ],
   "source": [
    "model = Word2Vec(embedding_dim=EMBEDDING_DIM, vocab_size=tokenizer.vocab_size)\n",
    "load_model(model, \"model_dim-128-radius-6-ratio-4-batch-256-epoch-15.ckpt\")"
   ]
  },
  {
   "cell_type": "code",
   "execution_count": 24,
   "metadata": {},
   "outputs": [],
   "source": [
    "class Conv1dClassifier(nn.Module):\n",
    "    \"\"\"A text classifier:\n",
    "    - input = minibatch\n",
    "    - output = probability associated to a binary classification task\n",
    "    - vocab_size: the number of words in the vocabulary we want to embed\n",
    "    - embedding_dim: size of the word vectors\n",
    "    \"\"\"\n",
    "\n",
    "    def __init__(self, vocab_size, embedding_dim, feature_size=100, kernel_size=3):\n",
    "        super().__init__()\n",
    "        self.embedding_dim = embedding_dim\n",
    "        self.feature_size = feature_size\n",
    "        self.embeddings = nn.Embedding(vocab_size, embedding_dim)\n",
    "        # The number of padding symbols depends on the kernel size.\n",
    "        # It is important to ensure that we have always a sequence\n",
    "        # as long as the kernel size.\n",
    "        # ex: if ks=3, we add 1 padding before and one after.\n",
    "        # The sentence \"Great\" becomes \"<pad> Great <pad>\"\n",
    "        self.conv = nn.Conv1d(\n",
    "            embedding_dim,\n",
    "            feature_size,\n",
    "            kernel_size,\n",
    "            padding=math.floor(kernel_size / 2),\n",
    "        )\n",
    "        # The parameter for AdaptiveMaxPool1d is the \"output size\"\n",
    "        # or the number of output values for a dimension.\n",
    "        # Here it is one: we want to get the max for every components.\n",
    "        self.pool = nn.AdaptiveMaxPool1d(1)\n",
    "        self.dropout = nn.Dropout(0.3)\n",
    "        self.linear = nn.Linear(feature_size, 1)\n",
    "        self.out_activation = nn.Sigmoid()\n",
    "\n",
    "    def forward(self, input_ids):\n",
    "        # In pytorch, convolution expects (B,d,L)\n",
    "        # B: the batch dimension\n",
    "        # d: the embedding dimension\n",
    "        # L: the length of the sequence\n",
    "        hidden_states = self.embeddings(input_ids).permute(0, 2, 1)\n",
    "        hidden_states = F.relu(self.conv(hidden_states))\n",
    "        hidden_states = self.pool(hidden_states)  # --> (B,d,1)\n",
    "        # Before the linear, do something with dims the dimension\n",
    "        # Because Linear works on the final dim\n",
    "        # (B,d,1) -> (B,d)\n",
    "        hidden_states = hidden_states.squeeze(dim=2)\n",
    "        hidden_states = self.dropout(hidden_states)\n",
    "        logits = self.linear(hidden_states)\n",
    "        return self.out_activation(logits)\n",
    "\n",
    "    def train(self, n_epochs: int = 10):\n",
    "        criterion = nn.BCELoss()\n",
    "        optimizer = torch.optim.Adam(self.parameters(), lr=0.001)\n",
    "        for epoch in tqdm(range(n_epochs), desc=\"Epochs\"):\n",
    "            total_loss = 0\n",
    "            for i, batch in enumerate(\n",
    "                tqdm(classification_train_dataloader, desc=\"Batches\", leave=False)\n",
    "            ):\n",
    "                optimizer.zero_grad()\n",
    "                output = self(batch[\"review_ids\"])\n",
    "                loss = criterion(output, batch[\"label\"].float())\n",
    "                loss.backward()\n",
    "                optimizer.step()\n",
    "                total_loss += loss.item()\n",
    "            print(f\"Epoch {epoch} - Loss: {total_loss/n_train}\")\n",
    "\n",
    "    def test(self):\n",
    "        correct_predictions = 0\n",
    "        with torch.no_grad():\n",
    "            for i, batch in enumerate(\n",
    "                tqdm(classification_test_dataloader, desc=\"Processing batches\")\n",
    "            ):\n",
    "                output = self(batch[\"review_ids\"])\n",
    "                predicted_labels = (output > 0.5).int()\n",
    "                correct_predictions += (predicted_labels == batch[\"label\"]).sum().item()\n",
    "        accuracy = correct_predictions / n_test * 100\n",
    "        accuracy = round(accuracy, 4)\n",
    "        print(f\"Accuracy: {accuracy}%\")\n",
    "        return accuracy"
   ]
  },
  {
   "cell_type": "code",
   "execution_count": 25,
   "metadata": {},
   "outputs": [],
   "source": [
    "class DataCollator:\n",
    "    def __init__(self, tokenizer):\n",
    "        self.tokenizer = tokenizer\n",
    "\n",
    "    def __call__(self, batch):\n",
    "        # `batch` is a list of dictionary with keys \"review_ids\" and \"label\".\n",
    "        features = [{\"input_ids\": x[\"review_ids\"]} for x in batch]\n",
    "        features = self.tokenizer.pad(\n",
    "            features, padding=\"max_length\", max_length=256, return_tensors=\"pt\"\n",
    "        )\n",
    "        label = torch.tensor([x[\"label\"] for x in batch])[:, None]\n",
    "        return {\"review_ids\": features[\"input_ids\"], \"label\": label}"
   ]
  },
  {
   "cell_type": "code",
   "execution_count": 26,
   "metadata": {},
   "outputs": [],
   "source": [
    "data_collator = DataCollator(tokenizer)"
   ]
  },
  {
   "cell_type": "code",
   "execution_count": 27,
   "metadata": {},
   "outputs": [],
   "source": [
    "batch_size = 32\n",
    "\n",
    "classification_train_dataloader = DataLoader(\n",
    "    document_train_set, batch_size=batch_size, collate_fn=data_collator\n",
    ")\n",
    "classification_test_dataloader = DataLoader(\n",
    "    document_test_set, batch_size=batch_size, collate_fn=data_collator\n",
    ")\n",
    "\n",
    "n_test = len(document_test_set)\n",
    "n_train = len(document_train_set)"
   ]
  },
  {
   "cell_type": "code",
   "execution_count": 28,
   "metadata": {},
   "outputs": [
    {
     "name": "stdout",
     "output_type": "stream",
     "text": [
      "batch is a dictionnary with keys: dict_keys(['review_ids', 'label'])\n",
      "Size of different elements: torch.Size([32, 256]) torch.Size([32, 1])\n"
     ]
    }
   ],
   "source": [
    "batch = next(iter(classification_train_dataloader))\n",
    "print(\"batch is a dictionnary with keys:\", batch.keys())\n",
    "print(\"Size of different elements:\", batch[\"review_ids\"].shape, batch[\"label\"].shape)"
   ]
  },
  {
   "cell_type": "markdown",
   "metadata": {},
   "source": [
    "Test the classifier on a random sequence."
   ]
  },
  {
   "cell_type": "code",
   "execution_count": 29,
   "metadata": {},
   "outputs": [
    {
     "name": "stdout",
     "output_type": "stream",
     "text": [
      "torch.Size([4, 1])\n",
      "tensor([[0.6995],\n",
      "        [0.4317],\n",
      "        [0.4079],\n",
      "        [0.5020]], grad_fn=<SigmoidBackward0>)\n"
     ]
    }
   ],
   "source": [
    "VOCSIZE = tokenizer.vocab_size\n",
    "random_inputs = torch.randint(0, VOCSIZE, (4, 100))\n",
    "# Test the class: is everything in place:\n",
    "# A first classifier is built like :\n",
    "model = Conv1dClassifier(\n",
    "    vocab_size=VOCSIZE, embedding_dim=25\n",
    ")  # The parameters of the classifier are randomly initialize, but we\n",
    "# can use it on a sequence :\n",
    "out = model(random_inputs)\n",
    "print(out.shape)  # the output has 2 dimensions\n",
    "print(out)"
   ]
  },
  {
   "cell_type": "markdown",
   "metadata": {},
   "source": [
    "### Question 2"
   ]
  },
  {
   "cell_type": "markdown",
   "metadata": {},
   "source": [
    "For the pretrained embeddings, we use the in_embeddings matrix, which makes more sense as it is the one used to capture a word when it is part of a context. This is better for semantic classification."
   ]
  },
  {
   "cell_type": "code",
   "execution_count": 30,
   "metadata": {},
   "outputs": [
    {
     "name": "stderr",
     "output_type": "stream",
     "text": [
      "/var/folders/_y/2rw4wkns73v1mc9wlr3l0k_h0000gn/T/ipykernel_24068/2437168639.py:2: FutureWarning: You are using `torch.load` with `weights_only=False` (the current default value), which uses the default pickle module implicitly. It is possible to construct malicious pickle data which will execute arbitrary code during unpickling (See https://github.com/pytorch/pytorch/blob/main/SECURITY.md#untrusted-models for more details). In a future release, the default value for `weights_only` will be flipped to `True`. This limits the functions that could be executed during unpickling. Arbitrary objects will no longer be allowed to be loaded via this mode unless they are explicitly allowlisted by the user via `torch.serialization.add_safe_globals`. We recommend you start setting `weights_only=True` for any use case where you don't have full control of the loaded file. Please open an issue on GitHub for any issues related to this experimental feature.\n",
      "  model.load_state_dict(torch.load(path))\n"
     ]
    },
    {
     "data": {
      "application/vnd.jupyter.widget-view+json": {
       "model_id": "df8770b962c54c39a0e823d6255574c2",
       "version_major": 2,
       "version_minor": 0
      },
      "text/plain": [
       "Epochs:   0%|          | 0/15 [00:00<?, ?it/s]"
      ]
     },
     "metadata": {},
     "output_type": "display_data"
    },
    {
     "data": {
      "application/vnd.jupyter.widget-view+json": {
       "model_id": "ffa63b8aefad4308ac3fb8e613b34783",
       "version_major": 2,
       "version_minor": 0
      },
      "text/plain": [
       "Batches:   0%|          | 0/3 [00:00<?, ?it/s]"
      ]
     },
     "metadata": {},
     "output_type": "display_data"
    },
    {
     "name": "stdout",
     "output_type": "stream",
     "text": [
      "Epoch 0 - Loss: 0.028000973165035248\n"
     ]
    },
    {
     "data": {
      "application/vnd.jupyter.widget-view+json": {
       "model_id": "6f2bbdaa810d4018b652ddc2bd36f78b",
       "version_major": 2,
       "version_minor": 0
      },
      "text/plain": [
       "Batches:   0%|          | 0/3 [00:00<?, ?it/s]"
      ]
     },
     "metadata": {},
     "output_type": "display_data"
    },
    {
     "name": "stdout",
     "output_type": "stream",
     "text": [
      "Epoch 1 - Loss: 0.024705381691455842\n"
     ]
    },
    {
     "data": {
      "application/vnd.jupyter.widget-view+json": {
       "model_id": "004eddcd27cc4543a1ea832b96eb9725",
       "version_major": 2,
       "version_minor": 0
      },
      "text/plain": [
       "Batches:   0%|          | 0/3 [00:00<?, ?it/s]"
      ]
     },
     "metadata": {},
     "output_type": "display_data"
    },
    {
     "name": "stdout",
     "output_type": "stream",
     "text": [
      "Epoch 2 - Loss: 0.022160703688859938\n"
     ]
    },
    {
     "data": {
      "application/vnd.jupyter.widget-view+json": {
       "model_id": "9ca4585c22264a83a4fa4cfa6ee191a8",
       "version_major": 2,
       "version_minor": 0
      },
      "text/plain": [
       "Batches:   0%|          | 0/3 [00:00<?, ?it/s]"
      ]
     },
     "metadata": {},
     "output_type": "display_data"
    },
    {
     "name": "stdout",
     "output_type": "stream",
     "text": [
      "Epoch 3 - Loss: 0.02274039387702942\n"
     ]
    },
    {
     "data": {
      "application/vnd.jupyter.widget-view+json": {
       "model_id": "82a6dbdbd2964c1d9e7226fe981163f0",
       "version_major": 2,
       "version_minor": 0
      },
      "text/plain": [
       "Batches:   0%|          | 0/3 [00:00<?, ?it/s]"
      ]
     },
     "metadata": {},
     "output_type": "display_data"
    },
    {
     "name": "stdout",
     "output_type": "stream",
     "text": [
      "Epoch 4 - Loss: 0.021340867131948472\n"
     ]
    },
    {
     "data": {
      "application/vnd.jupyter.widget-view+json": {
       "model_id": "54f6c963d8584bbabe6cf1e961873c83",
       "version_major": 2,
       "version_minor": 0
      },
      "text/plain": [
       "Batches:   0%|          | 0/3 [00:00<?, ?it/s]"
      ]
     },
     "metadata": {},
     "output_type": "display_data"
    },
    {
     "name": "stdout",
     "output_type": "stream",
     "text": [
      "Epoch 5 - Loss: 0.01983213648200035\n"
     ]
    },
    {
     "data": {
      "application/vnd.jupyter.widget-view+json": {
       "model_id": "fefb5ea21d4d412ba95807d3b3a6b8d7",
       "version_major": 2,
       "version_minor": 0
      },
      "text/plain": [
       "Batches:   0%|          | 0/3 [00:00<?, ?it/s]"
      ]
     },
     "metadata": {},
     "output_type": "display_data"
    },
    {
     "name": "stdout",
     "output_type": "stream",
     "text": [
      "Epoch 6 - Loss: 0.018967344239354134\n"
     ]
    },
    {
     "data": {
      "application/vnd.jupyter.widget-view+json": {
       "model_id": "8d05b76701fa4703be3652b3f3f0962e",
       "version_major": 2,
       "version_minor": 0
      },
      "text/plain": [
       "Batches:   0%|          | 0/3 [00:00<?, ?it/s]"
      ]
     },
     "metadata": {},
     "output_type": "display_data"
    },
    {
     "name": "stdout",
     "output_type": "stream",
     "text": [
      "Epoch 7 - Loss: 0.01745458021759987\n"
     ]
    },
    {
     "data": {
      "application/vnd.jupyter.widget-view+json": {
       "model_id": "dc3f0f90e84e49dda398d999b4997226",
       "version_major": 2,
       "version_minor": 0
      },
      "text/plain": [
       "Batches:   0%|          | 0/3 [00:00<?, ?it/s]"
      ]
     },
     "metadata": {},
     "output_type": "display_data"
    },
    {
     "name": "stdout",
     "output_type": "stream",
     "text": [
      "Epoch 8 - Loss: 0.016077957674860956\n"
     ]
    },
    {
     "data": {
      "application/vnd.jupyter.widget-view+json": {
       "model_id": "4601630662e241e98316ae9a0348e5b4",
       "version_major": 2,
       "version_minor": 0
      },
      "text/plain": [
       "Batches:   0%|          | 0/3 [00:00<?, ?it/s]"
      ]
     },
     "metadata": {},
     "output_type": "display_data"
    },
    {
     "name": "stdout",
     "output_type": "stream",
     "text": [
      "Epoch 9 - Loss: 0.01657031141221523\n"
     ]
    },
    {
     "data": {
      "application/vnd.jupyter.widget-view+json": {
       "model_id": "81c44405515d47eea2c920a3eac6c9c2",
       "version_major": 2,
       "version_minor": 0
      },
      "text/plain": [
       "Batches:   0%|          | 0/3 [00:00<?, ?it/s]"
      ]
     },
     "metadata": {},
     "output_type": "display_data"
    },
    {
     "name": "stdout",
     "output_type": "stream",
     "text": [
      "Epoch 10 - Loss: 0.015131543204188348\n"
     ]
    },
    {
     "data": {
      "application/vnd.jupyter.widget-view+json": {
       "model_id": "35c9f22057294994b220e1923665bb72",
       "version_major": 2,
       "version_minor": 0
      },
      "text/plain": [
       "Batches:   0%|          | 0/3 [00:00<?, ?it/s]"
      ]
     },
     "metadata": {},
     "output_type": "display_data"
    },
    {
     "name": "stdout",
     "output_type": "stream",
     "text": [
      "Epoch 11 - Loss: 0.013841382414102554\n"
     ]
    },
    {
     "data": {
      "application/vnd.jupyter.widget-view+json": {
       "model_id": "3ca903b8de2745cbb7f76d377adaf8a1",
       "version_major": 2,
       "version_minor": 0
      },
      "text/plain": [
       "Batches:   0%|          | 0/3 [00:00<?, ?it/s]"
      ]
     },
     "metadata": {},
     "output_type": "display_data"
    },
    {
     "name": "stdout",
     "output_type": "stream",
     "text": [
      "Epoch 12 - Loss: 0.013460179045796394\n"
     ]
    },
    {
     "data": {
      "application/vnd.jupyter.widget-view+json": {
       "model_id": "ca2920a04da74a5f8e2932f8cc3b8d6b",
       "version_major": 2,
       "version_minor": 0
      },
      "text/plain": [
       "Batches:   0%|          | 0/3 [00:00<?, ?it/s]"
      ]
     },
     "metadata": {},
     "output_type": "display_data"
    },
    {
     "name": "stdout",
     "output_type": "stream",
     "text": [
      "Epoch 13 - Loss: 0.013047679699957371\n"
     ]
    },
    {
     "data": {
      "application/vnd.jupyter.widget-view+json": {
       "model_id": "63c64f6dbbc04771815cd39faa24739f",
       "version_major": 2,
       "version_minor": 0
      },
      "text/plain": [
       "Batches:   0%|          | 0/3 [00:00<?, ?it/s]"
      ]
     },
     "metadata": {},
     "output_type": "display_data"
    },
    {
     "name": "stdout",
     "output_type": "stream",
     "text": [
      "Epoch 14 - Loss: 0.012574435770511627\n"
     ]
    }
   ],
   "source": [
    "pretrained_model = Conv1dClassifier(tokenizer.vocab_size, EMBEDDING_DIM)\n",
    "pretrained_word2vec = load_model(\n",
    "    Word2Vec(embedding_dim=EMBEDDING_DIM, vocab_size=tokenizer.vocab_size),\n",
    "    \"model_dim-128-radius-6-ratio-4-batch-256-epoch-15.ckpt\",\n",
    ")\n",
    "pretrained_model.embeddings = nn.Embedding.from_pretrained(\n",
    "    pretrained_word2vec.in_embedding.weight\n",
    ")\n",
    "pretrained_model.train(n_epochs=15)"
   ]
  },
  {
   "cell_type": "code",
   "execution_count": 31,
   "metadata": {},
   "outputs": [
    {
     "data": {
      "application/vnd.jupyter.widget-view+json": {
       "model_id": "c79b32547e824026b3cb60c644651288",
       "version_major": 2,
       "version_minor": 0
      },
      "text/plain": [
       "Processing batches:   0%|          | 0/1 [00:00<?, ?it/s]"
      ]
     },
     "metadata": {},
     "output_type": "display_data"
    },
    {
     "name": "stdout",
     "output_type": "stream",
     "text": [
      "Accuracy: 50.0%\n"
     ]
    },
    {
     "data": {
      "text/plain": [
       "50.0"
      ]
     },
     "execution_count": 31,
     "metadata": {},
     "output_type": "execute_result"
    }
   ],
   "source": [
    "pretrained_model.test()"
   ]
  },
  {
   "cell_type": "markdown",
   "metadata": {},
   "source": [
    "### Question 3"
   ]
  },
  {
   "cell_type": "code",
   "execution_count": 32,
   "metadata": {},
   "outputs": [
    {
     "data": {
      "application/vnd.jupyter.widget-view+json": {
       "model_id": "05c169e48a7548508f7ee80d4c546c35",
       "version_major": 2,
       "version_minor": 0
      },
      "text/plain": [
       "Epochs:   0%|          | 0/15 [00:00<?, ?it/s]"
      ]
     },
     "metadata": {},
     "output_type": "display_data"
    },
    {
     "data": {
      "application/vnd.jupyter.widget-view+json": {
       "model_id": "67d5d01b82df4ed5977eb29c0446e0be",
       "version_major": 2,
       "version_minor": 0
      },
      "text/plain": [
       "Batches:   0%|          | 0/3 [00:00<?, ?it/s]"
      ]
     },
     "metadata": {},
     "output_type": "display_data"
    },
    {
     "name": "stdout",
     "output_type": "stream",
     "text": [
      "Epoch 0 - Loss: 0.029200512915849686\n"
     ]
    },
    {
     "data": {
      "application/vnd.jupyter.widget-view+json": {
       "model_id": "0cbc21ea50a142bcb2d2cab87d590464",
       "version_major": 2,
       "version_minor": 0
      },
      "text/plain": [
       "Batches:   0%|          | 0/3 [00:00<?, ?it/s]"
      ]
     },
     "metadata": {},
     "output_type": "display_data"
    },
    {
     "name": "stdout",
     "output_type": "stream",
     "text": [
      "Epoch 1 - Loss: 0.0251150906085968\n"
     ]
    },
    {
     "data": {
      "application/vnd.jupyter.widget-view+json": {
       "model_id": "113b5d8f5fec4f3dada900204908e864",
       "version_major": 2,
       "version_minor": 0
      },
      "text/plain": [
       "Batches:   0%|          | 0/3 [00:00<?, ?it/s]"
      ]
     },
     "metadata": {},
     "output_type": "display_data"
    },
    {
     "name": "stdout",
     "output_type": "stream",
     "text": [
      "Epoch 2 - Loss: 0.019916275143623353\n"
     ]
    },
    {
     "data": {
      "application/vnd.jupyter.widget-view+json": {
       "model_id": "01a1a11b7a4c4a089107a144af1dccb0",
       "version_major": 2,
       "version_minor": 0
      },
      "text/plain": [
       "Batches:   0%|          | 0/3 [00:00<?, ?it/s]"
      ]
     },
     "metadata": {},
     "output_type": "display_data"
    },
    {
     "name": "stdout",
     "output_type": "stream",
     "text": [
      "Epoch 3 - Loss: 0.017275483161211014\n"
     ]
    },
    {
     "data": {
      "application/vnd.jupyter.widget-view+json": {
       "model_id": "885f78103d2c4d87b7e1ed3cf06d68b2",
       "version_major": 2,
       "version_minor": 0
      },
      "text/plain": [
       "Batches:   0%|          | 0/3 [00:00<?, ?it/s]"
      ]
     },
     "metadata": {},
     "output_type": "display_data"
    },
    {
     "name": "stdout",
     "output_type": "stream",
     "text": [
      "Epoch 4 - Loss: 0.017852285876870155\n"
     ]
    },
    {
     "data": {
      "application/vnd.jupyter.widget-view+json": {
       "model_id": "6ae955e1833442daaa34de39062a0329",
       "version_major": 2,
       "version_minor": 0
      },
      "text/plain": [
       "Batches:   0%|          | 0/3 [00:00<?, ?it/s]"
      ]
     },
     "metadata": {},
     "output_type": "display_data"
    },
    {
     "name": "stdout",
     "output_type": "stream",
     "text": [
      "Epoch 5 - Loss: 0.015524232015013694\n"
     ]
    },
    {
     "data": {
      "application/vnd.jupyter.widget-view+json": {
       "model_id": "bef2884725004289a1df809aa985b1b8",
       "version_major": 2,
       "version_minor": 0
      },
      "text/plain": [
       "Batches:   0%|          | 0/3 [00:00<?, ?it/s]"
      ]
     },
     "metadata": {},
     "output_type": "display_data"
    },
    {
     "name": "stdout",
     "output_type": "stream",
     "text": [
      "Epoch 6 - Loss: 0.013367440551519394\n"
     ]
    },
    {
     "data": {
      "application/vnd.jupyter.widget-view+json": {
       "model_id": "4702af5559c847cb9779517013b7209e",
       "version_major": 2,
       "version_minor": 0
      },
      "text/plain": [
       "Batches:   0%|          | 0/3 [00:00<?, ?it/s]"
      ]
     },
     "metadata": {},
     "output_type": "display_data"
    },
    {
     "name": "stdout",
     "output_type": "stream",
     "text": [
      "Epoch 7 - Loss: 0.013279785215854645\n"
     ]
    },
    {
     "data": {
      "application/vnd.jupyter.widget-view+json": {
       "model_id": "612fd29b400143a8ba719161e65f5f94",
       "version_major": 2,
       "version_minor": 0
      },
      "text/plain": [
       "Batches:   0%|          | 0/3 [00:00<?, ?it/s]"
      ]
     },
     "metadata": {},
     "output_type": "display_data"
    },
    {
     "name": "stdout",
     "output_type": "stream",
     "text": [
      "Epoch 8 - Loss: 0.010928234457969666\n"
     ]
    },
    {
     "data": {
      "application/vnd.jupyter.widget-view+json": {
       "model_id": "b9ac30e6aefb4860824dd2e527648207",
       "version_major": 2,
       "version_minor": 0
      },
      "text/plain": [
       "Batches:   0%|          | 0/3 [00:00<?, ?it/s]"
      ]
     },
     "metadata": {},
     "output_type": "display_data"
    },
    {
     "name": "stdout",
     "output_type": "stream",
     "text": [
      "Epoch 9 - Loss: 0.010084187053143978\n"
     ]
    },
    {
     "data": {
      "application/vnd.jupyter.widget-view+json": {
       "model_id": "fb593ec1c7814664a67dd54a55faa88c",
       "version_major": 2,
       "version_minor": 0
      },
      "text/plain": [
       "Batches:   0%|          | 0/3 [00:00<?, ?it/s]"
      ]
     },
     "metadata": {},
     "output_type": "display_data"
    },
    {
     "name": "stdout",
     "output_type": "stream",
     "text": [
      "Epoch 10 - Loss: 0.009093673899769783\n"
     ]
    },
    {
     "data": {
      "application/vnd.jupyter.widget-view+json": {
       "model_id": "b84d73bf94c14526988802c8cf2ce6f0",
       "version_major": 2,
       "version_minor": 0
      },
      "text/plain": [
       "Batches:   0%|          | 0/3 [00:00<?, ?it/s]"
      ]
     },
     "metadata": {},
     "output_type": "display_data"
    },
    {
     "name": "stdout",
     "output_type": "stream",
     "text": [
      "Epoch 11 - Loss: 0.008923341147601604\n"
     ]
    },
    {
     "data": {
      "application/vnd.jupyter.widget-view+json": {
       "model_id": "514f4db9d6044c479b4c01e1f8d63a28",
       "version_major": 2,
       "version_minor": 0
      },
      "text/plain": [
       "Batches:   0%|          | 0/3 [00:00<?, ?it/s]"
      ]
     },
     "metadata": {},
     "output_type": "display_data"
    },
    {
     "name": "stdout",
     "output_type": "stream",
     "text": [
      "Epoch 12 - Loss: 0.007627846859395504\n"
     ]
    },
    {
     "data": {
      "application/vnd.jupyter.widget-view+json": {
       "model_id": "710377ad4e5a445282b80f7e3d9fe79c",
       "version_major": 2,
       "version_minor": 0
      },
      "text/plain": [
       "Batches:   0%|          | 0/3 [00:00<?, ?it/s]"
      ]
     },
     "metadata": {},
     "output_type": "display_data"
    },
    {
     "name": "stdout",
     "output_type": "stream",
     "text": [
      "Epoch 13 - Loss: 0.0069733597338199615\n"
     ]
    },
    {
     "data": {
      "application/vnd.jupyter.widget-view+json": {
       "model_id": "891d1c7f0c894a3f9cdeb279a4afe413",
       "version_major": 2,
       "version_minor": 0
      },
      "text/plain": [
       "Batches:   0%|          | 0/3 [00:00<?, ?it/s]"
      ]
     },
     "metadata": {},
     "output_type": "display_data"
    },
    {
     "name": "stdout",
     "output_type": "stream",
     "text": [
      "Epoch 14 - Loss: 0.0066373726353049275\n"
     ]
    }
   ],
   "source": [
    "classifier = Conv1dClassifier(\n",
    "    vocab_size=tokenizer.vocab_size, embedding_dim=EMBEDDING_DIM\n",
    ")\n",
    "classifier.train(n_epochs=15)"
   ]
  },
  {
   "cell_type": "code",
   "execution_count": 33,
   "metadata": {},
   "outputs": [
    {
     "data": {
      "application/vnd.jupyter.widget-view+json": {
       "model_id": "1d85a24fd321403784953fc91370fc19",
       "version_major": 2,
       "version_minor": 0
      },
      "text/plain": [
       "Processing batches:   0%|          | 0/1 [00:00<?, ?it/s]"
      ]
     },
     "metadata": {},
     "output_type": "display_data"
    },
    {
     "name": "stdout",
     "output_type": "stream",
     "text": [
      "Accuracy: 55.0%\n"
     ]
    },
    {
     "data": {
      "text/plain": [
       "55.0"
      ]
     },
     "execution_count": 33,
     "metadata": {},
     "output_type": "execute_result"
    }
   ],
   "source": [
    "classifier.test()"
   ]
  }
 ],
 "metadata": {
  "kernelspec": {
   "display_name": "llm-ljK2SZ_F-py3.12",
   "language": "python",
   "name": "python3"
  },
  "language_info": {
   "codemirror_mode": {
    "name": "ipython",
    "version": 3
   },
   "file_extension": ".py",
   "mimetype": "text/x-python",
   "name": "python",
   "nbconvert_exporter": "python",
   "pygments_lexer": "ipython3",
   "version": "3.12.7"
  }
 },
 "nbformat": 4,
 "nbformat_minor": 2
}
